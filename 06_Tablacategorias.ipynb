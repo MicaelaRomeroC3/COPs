{
  "nbformat": 4,
  "nbformat_minor": 0,
  "metadata": {
    "colab": {
      "provenance": [],
      "authorship_tag": "ABX9TyNvCag9MY/hvNwXUeY3TEFv",
      "include_colab_link": true
    },
    "kernelspec": {
      "name": "python3",
      "display_name": "Python 3"
    },
    "language_info": {
      "name": "python"
    }
  },
  "cells": [
    {
      "cell_type": "markdown",
      "metadata": {
        "id": "view-in-github",
        "colab_type": "text"
      },
      "source": [
        "<a href=\"https://colab.research.google.com/github/MicaelaRomeroC3/COPs/blob/main/06_Tablacategorias.ipynb\" target=\"_parent\"><img src=\"https://colab.research.google.com/assets/colab-badge.svg\" alt=\"Open In Colab\"/></a>"
      ]
    },
    {
      "cell_type": "code",
      "execution_count": 24,
      "metadata": {
        "colab": {
          "base_uri": "https://localhost:8080/"
        },
        "id": "IsG9rWklbQW6",
        "outputId": "24a3ee93-5f03-4ee8-e374-1c1bf2cf56df"
      },
      "outputs": [
        {
          "output_type": "stream",
          "name": "stdout",
          "text": [
            "Mounted at /content/drive\n"
          ]
        }
      ],
      "source": [
        "from google.colab import drive\n",
        "drive.mount('/content/drive', force_remount=True)"
      ]
    },
    {
      "cell_type": "code",
      "source": [
        "import pandas as pd\n",
        "import os"
      ],
      "metadata": {
        "id": "1Tm21LATcElN"
      },
      "execution_count": 25,
      "outputs": []
    },
    {
      "cell_type": "code",
      "source": [
        "ruta_historical ='/content/drive/MyDrive/COPS/DATA/3.HISTORICAL/llamadas.parquet'\n",
        "ruta_salida = '/content/drive/MyDrive/COPS/OUTPUT/TABLA_CATEGORIAS.xlsx'\n",
        "os.makedirs(os.path.dirname(ruta_salida), exist_ok=True)\n",
        "\n",
        "# === Cargar histórico ===\n",
        "if os.path.exists(ruta_historical):\n",
        "    df = pd.read_parquet(ruta_historical)\n",
        "    print(f\"📊 Histórico cargado con {len(df)} registros.\")\n",
        "else:\n",
        "    print(\"⚠️ No se encontró el archivo histórico.\")\n",
        "    exit()"
      ],
      "metadata": {
        "colab": {
          "base_uri": "https://localhost:8080/"
        },
        "id": "scYDmxbAbX_P",
        "outputId": "12658419-5680-4da5-9a85-37d0eecc2931"
      },
      "execution_count": 26,
      "outputs": [
        {
          "output_type": "stream",
          "name": "stdout",
          "text": [
            "📊 Histórico cargado con 10000 registros.\n"
          ]
        }
      ]
    },
    {
      "cell_type": "code",
      "source": [
        "# === Variables de cada tipo ===\n",
        "columnas_eval_1 = ['P1', 'P2', 'P3', 'P4', 'P5', 'P6', 'S1', 'S2', 'S3', 'S4', 'S5M', 'C1M', 'C2M', 'T1M', 'T2M', 'T3']\n",
        "ponderacion_dict = {\n",
        "    'P1': 0.02, 'P2': 0.10, 'P3': 0.03, 'P4': 0.03, 'P5': 0.05, 'P6': 0.02,\n",
        "    'S1': 0.03, 'S2': 0.02, 'S3': 0.10, 'S4': 0.10, 'S5M': 0.05,\n",
        "    'C1M': 0.10, 'C2M': 0.10, 'T1M': 0.05, 'T2M': 0.10, 'T3': 0.10\n",
        "}\n",
        "\n",
        "# === Lista de dimensiones ===\n",
        "dimensiones = ['PRODUCTO', 'SEGMENTO', 'R_NR', 'PERIMETRO']\n",
        "tablas_por_dimension = []\n",
        "\n",
        "# === Función para generar análisis por dimensión ===\n",
        "for dim in dimensiones:\n",
        "    errores = df.groupby(['FECHA_EVALUACIÓN', dim])[columnas_eval_1].apply(lambda x: (x == False).sum()).reset_index()\n",
        "    llamadas = df.groupby(['FECHA_EVALUACIÓN', dim]).size().reset_index(name='NUM_LLAMADAS')\n",
        "    resultado = pd.merge(errores, llamadas, on=['FECHA_EVALUACIÓN', dim])\n",
        "\n",
        "    resultado = resultado.melt(\n",
        "        id_vars=['FECHA_EVALUACIÓN', dim, 'NUM_LLAMADAS'],\n",
        "        value_vars=columnas_eval_1,\n",
        "        var_name='VARIABLE',\n",
        "        value_name='N_FALSOS'\n",
        "    )\n",
        "\n",
        "    resultado['%_CUMPLIMIENTO'] = ((1 - resultado['N_FALSOS'] / resultado['NUM_LLAMADAS']) * 100).round(2)\n",
        "    resultado['PONDERACION'] = resultado['VARIABLE'].map(ponderacion_dict)\n",
        "\n",
        "    resultado['DIMENSIÓN'] = dim.capitalize()\n",
        "    resultado['VALOR_DIMENSIÓN'] = resultado[dim]\n",
        "    resultado.drop(columns=[dim], inplace=True)\n",
        "\n",
        "    tablas_por_dimension.append(resultado)\n",
        "\n",
        "# === Concatenar todas las tablas por dimensión en una tabla general ===\n",
        "tabla_general = pd.concat(tablas_por_dimension, ignore_index=True)\n",
        "\n",
        "# === Cálculo %_CUMPLIMIENTO_P, C, S, T ===\n",
        "def calcular_cumplimiento_grupo(df, grupo, divisor):\n",
        "    variables_grupo = {\n",
        "        'P': ['P1', 'P2', 'P3', 'P4', 'P5', 'P6'],\n",
        "        'S': ['S1', 'S2', 'S3', 'S4', 'S5M'],\n",
        "        'C': ['C1M', 'C2M'],\n",
        "        'T': ['T1M', 'T2M', 'T3']\n",
        "    }\n",
        "    temp = df[df['VARIABLE'].isin(variables_grupo[grupo])].copy()\n",
        "    temp['PON_CUMP'] = temp['%_CUMPLIMIENTO'] * temp['PONDERACION']\n",
        "    resultado = (\n",
        "        temp.groupby(['VALOR_DIMENSIÓN', 'FECHA_EVALUACIÓN'])['PON_CUMP'].sum().reset_index()\n",
        "    )\n",
        "    resultado[f'%_CUMPLIMIENTO_{grupo}'] = (resultado['PON_CUMP'] / divisor).round(2)\n",
        "    resultado.drop(columns='PON_CUMP', inplace=True)\n",
        "    return resultado\n",
        "\n",
        "cumplimiento_P = calcular_cumplimiento_grupo(tabla_general, 'P', 0.25)\n",
        "cumplimiento_S = calcular_cumplimiento_grupo(tabla_general, 'S', 0.30)\n",
        "cumplimiento_C = calcular_cumplimiento_grupo(tabla_general, 'C', 0.20)\n",
        "cumplimiento_T = calcular_cumplimiento_grupo(tabla_general, 'T', 0.25)\n",
        "\n",
        "# === Añadir a tabla_general ===\n",
        "for df_cumpl in [cumplimiento_P, cumplimiento_S, cumplimiento_C, cumplimiento_T]:\n",
        "    tabla_general = pd.merge(tabla_general, df_cumpl, on=['VALOR_DIMENSIÓN', 'FECHA_EVALUACIÓN'], how='left')\n",
        "\n",
        "# === Añadir %_CUMPLIMIENTO_G (global) ===\n",
        "def calcular_cumplimiento_global(df):\n",
        "    temp = df[df['VARIABLE'].isin(columnas_eval_1)].copy()\n",
        "    temp['PON_CUMP'] = temp['PONDERACION'] * temp['%_CUMPLIMIENTO']\n",
        "    resultado = (\n",
        "        temp.groupby(['VALOR_DIMENSIÓN', 'FECHA_EVALUACIÓN'])['PON_CUMP'].sum()\n",
        "        .reset_index()\n",
        "        .rename(columns={'PON_CUMP': '%_CUMPLIMIENTO_G'})\n",
        "    )\n",
        "    return resultado\n",
        "\n",
        "cumplimiento_global = calcular_cumplimiento_global(tabla_general)\n",
        "tabla_general = pd.merge(tabla_general, cumplimiento_global, on=['VALOR_DIMENSIÓN', 'FECHA_EVALUACIÓN'], how='left')\n"
      ],
      "metadata": {
        "id": "G-XZdTyZbtN3"
      },
      "execution_count": 27,
      "outputs": []
    },
    {
      "cell_type": "code",
      "source": [
        "# === Tablas para hojas resumen globales ===\n",
        "columnas_eval_1 = ['P1', 'P2', 'P3', 'P4', 'P5', 'P6',\n",
        "                   'S1', 'S2', 'S3', 'S4', 'S5M',\n",
        "                   'C1M', 'C2M',\n",
        "                   'T1M', 'T2M', 'T3']\n",
        "\n",
        "ponderacion_dict = {\n",
        "    'P1': 0.02, 'P2': 0.10, 'P3': 0.03, 'P4': 0.03, 'P5': 0.05, 'P6': 0.02,\n",
        "    'S1': 0.03, 'S2': 0.02, 'S3': 0.10, 'S4': 0.10, 'S5M': 0.05,\n",
        "    'C1M': 0.10, 'C2M': 0.10,\n",
        "    'T1M': 0.05, 'T2M': 0.10, 'T3': 0.10\n",
        "}\n",
        "\n",
        "dimensiones_resumen = ['PRODUCTO', 'SEGMENTO', 'R_NR', 'PERIMETRO']\n",
        "resumen_globales = {}\n",
        "\n",
        "for dim in dimensiones_resumen:\n",
        "    # Empezamos desde cero, sobre df crudo\n",
        "    errores = df.groupby(dim)[columnas_eval_1].apply(lambda x: (x == False).sum()).reset_index()\n",
        "    llamadas = df.groupby(dim).size().reset_index(name='NUM_LLAMADAS')\n",
        "    temp = pd.merge(errores, llamadas, on=dim)\n",
        "\n",
        "    temp = temp.melt(\n",
        "        id_vars=[dim, 'NUM_LLAMADAS'],\n",
        "        value_vars=columnas_eval_1,\n",
        "        var_name='VARIABLE',\n",
        "        value_name='N_FALSOS'\n",
        "    )\n",
        "\n",
        "    temp['%_CUMPLIMIENTO'] = ((1 - temp['N_FALSOS'] / temp['NUM_LLAMADAS']) * 100).round(2)\n",
        "    temp['PONDERACION'] = temp['VARIABLE'].map(ponderacion_dict)\n",
        "    temp['PON_CUMP'] = (temp['%_CUMPLIMIENTO'] / 100) * temp['PONDERACION']\n",
        "\n",
        "    resumen = temp.groupby(dim, as_index=False)['PON_CUMP'].sum()\n",
        "    resumen['%_CUMPLIMIENTO_GLOBAL'] = (resumen['PON_CUMP'] * 100).round(2)\n",
        "    resumen_globales[dim] = resumen[[dim, '%_CUMPLIMIENTO_GLOBAL']]\n",
        "\n",
        "\n",
        "print(resumen_globales[dim])"
      ],
      "metadata": {
        "colab": {
          "base_uri": "https://localhost:8080/"
        },
        "id": "kcIl_qD5cogM",
        "outputId": "e22e2c52-c8af-43da-81d0-3b2e94625dc8"
      },
      "execution_count": 28,
      "outputs": [
        {
          "output_type": "stream",
          "name": "stdout",
          "text": [
            "  PERIMETRO  %_CUMPLIMIENTO_GLOBAL\n",
            "0      0-30                  99.47\n",
            "1   180-365                  99.06\n",
            "2     30-90                  99.66\n",
            "3      365m                  99.72\n",
            "4    90-180                  99.33\n"
          ]
        }
      ]
    },
    {
      "cell_type": "code",
      "source": [
        "# === Exportar a Excel ===\n",
        "with pd.ExcelWriter(ruta_salida, engine='openpyxl', mode='w') as writer:\n",
        "\n",
        "    # 1️⃣ Guardar hojas detalladas por dimensión (código viejo)\n",
        "    for dim in dimensiones:\n",
        "        df_dim = tabla_general[tabla_general['DIMENSIÓN'] == dim.capitalize()]\n",
        "        df_dim.to_excel(writer, sheet_name=dim.capitalize(), index=False)\n",
        "\n",
        "    # 2️⃣ Guardar tabla general concatenada\n",
        "    tabla_general.to_excel(writer, sheet_name='TABLA_GENERALCATEG', index=False)\n",
        "\n",
        "    # 3️⃣ Guardar resultados globales calculados desde cero\n",
        "    for dim, df_resumen in resumen_globales.items():\n",
        "        df_resumen.to_excel(writer, sheet_name=f'{dim.capitalize()}_GLOBAL', index=False)\n",
        "\n",
        "print(f\"✅ Excel generado correctamente en: {ruta_salida}\")\n"
      ],
      "metadata": {
        "colab": {
          "base_uri": "https://localhost:8080/"
        },
        "id": "Wjca5fvabydc",
        "outputId": "4be1fcaf-e3ba-4f01-dd96-1ec5561a1ede"
      },
      "execution_count": 29,
      "outputs": [
        {
          "output_type": "stream",
          "name": "stdout",
          "text": [
            "✅ Excel generado correctamente en: /content/drive/MyDrive/COPS/OUTPUT/TABLA_CATEGORIAS.xlsx\n"
          ]
        }
      ]
    }
  ]
}
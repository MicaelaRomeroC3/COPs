{
  "nbformat": 4,
  "nbformat_minor": 0,
  "metadata": {
    "colab": {
      "provenance": [],
      "authorship_tag": "ABX9TyN0cRFuEQUEih0vuhYfFesg",
      "include_colab_link": true
    },
    "kernelspec": {
      "name": "python3",
      "display_name": "Python 3"
    },
    "language_info": {
      "name": "python"
    }
  },
  "cells": [
    {
      "cell_type": "markdown",
      "metadata": {
        "id": "view-in-github",
        "colab_type": "text"
      },
      "source": [
        "<a href=\"https://colab.research.google.com/github/MicaelaRomeroC3/COPs/blob/main/01_Clean_data.ipynb\" target=\"_parent\"><img src=\"https://colab.research.google.com/assets/colab-badge.svg\" alt=\"Open In Colab\"/></a>"
      ]
    },
    {
      "cell_type": "code",
      "execution_count": 1,
      "metadata": {
        "id": "3Fqak8sH4PoG"
      },
      "outputs": [],
      "source": [
        "import os\n",
        "import pandas as pd\n",
        "from datetime import datetime"
      ]
    },
    {
      "cell_type": "code",
      "source": [
        "from google.colab import drive\n",
        "drive.mount('/content/drive', force_remount=True)"
      ],
      "metadata": {
        "colab": {
          "base_uri": "https://localhost:8080/"
        },
        "id": "d2Y7mZ7_47Il",
        "outputId": "4bbec2b4-d937-477c-bab0-87b94ef1926c"
      },
      "execution_count": 2,
      "outputs": [
        {
          "output_type": "stream",
          "name": "stdout",
          "text": [
            "Mounted at /content/drive\n"
          ]
        }
      ]
    },
    {
      "cell_type": "code",
      "source": [
        "### Establecemos que lea de esta carpeta el archivo más reciente sobre el cual aplicará la limpieza de datos\n",
        "\n",
        "ruta_raw = '/content/drive/MyDrive/COPS/DATA/1.RAW'\n",
        "ruta_clean = '/content/drive/MyDrive/COPS/DATA/2.CLEANED'\n",
        "\n",
        "# Filtra solo archivos .xlsx\n",
        "archivos = [f for f in os.listdir(ruta_raw) if f.endswith('.xlsx')]\n",
        "\n",
        "if not archivos:\n",
        "    print(\"⚠️ No se encontraron archivos .xlsx en la carpeta RAW.\")\n",
        "else:\n",
        "    # Obtiene la ruta del archivo más reciente\n",
        "    archivo_mas_reciente = max(\n",
        "        archivos,\n",
        "        key=lambda f: os.path.getmtime(os.path.join(ruta_raw, f))\n",
        "    )\n",
        "    ruta_archivo = os.path.join(ruta_raw, archivo_mas_reciente)\n",
        "\n",
        "    print(f\"📄 Archivo más reciente encontrado: {archivo_mas_reciente}\")\n",
        "\n",
        "    # Carga el archivo\n",
        "    df = pd.read_excel(ruta_archivo)\n"
      ],
      "metadata": {
        "colab": {
          "base_uri": "https://localhost:8080/"
        },
        "id": "VzWOJPR54YU2",
        "outputId": "9bc5d76d-dee5-4a4e-dc42-ac6b900684fc"
      },
      "execution_count": 3,
      "outputs": [
        {
          "output_type": "stream",
          "name": "stdout",
          "text": [
            "📄 Archivo más reciente encontrado: 1 al 30 de abril final.xlsx\n"
          ]
        }
      ]
    },
    {
      "cell_type": "code",
      "source": [
        "print(df.columns.tolist())"
      ],
      "metadata": {
        "colab": {
          "base_uri": "https://localhost:8080/"
        },
        "id": "n8BVghxWDpCh",
        "outputId": "58bd9f2e-508b-4fef-ebe6-0d1db33bf7c8"
      },
      "execution_count": 4,
      "outputs": [
        {
          "output_type": "stream",
          "name": "stdout",
          "text": [
            "['ID', 'IDEVENTCLIENTE', 'EQUIPO', 'CIP', 'ID SERVICIO', 'SERVICIO', 'EMPRESA', 'DISPOSITIVO', 'MEDIDOR', 'FECHA EVALUACIÓN', 'HORAEVALUACION', 'VALORACIÓN', 'IDOPERADOR', 'AGENTE', 'IDEVALUADOR', 'EVALUADOR', 'IDESPECIALISTA', 'RESPUESTA', 'DURACIÓN', 'FECHA', 'HORA', 'MOTIVO', 'ALCANCE', 'CATEGORIA1', 'CATEGORIA2', 'CATEGORIA3', 'CATEGORIA4', 'GRABACIÓN', 'ARCHIVO_ADJUNTO', 'ARCHIVO_ADJUNTO2', 'ARCHIVO_ADJUNTO3', 'ARCHIVO_ADJUNTO4', 'ARCHIVO_ADJUNTO5', 'ACUERDO DE PAGO', 'PRESENTACIÓN, SALUDO CORPORATIVO Y GRABACIÓN DE LA LLAMADA', 'PRESENTACIÓN, SALUDO CORPORATIVO Y GRABACIÓN DE LA LLAMADA.COND.NO SE PRESENTA \"EN NOMBRE DE LA ENTIDAD\" DE LA DEUDA (MONOPRODUCTO)', 'PRESENTACIÓN, SALUDO CORPORATIVO Y GRABACIÓN DE LA LLAMADA.COND.NO SE PRESENTA \"EN NOMBRE DE CAIXABANK\" Y ESPECIFICA LA ENTIDAD DE CADA DEUDA (MULTIPRODUCTOS)', 'PRESENTACIÓN, SALUDO CORPORATIVO Y GRABACIÓN DE LA LLAMADA.COND.NO DICE NOMBRE AGENCIA', 'PRESENTACIÓN, SALUDO CORPORATIVO Y GRABACIÓN DE LA LLAMADA.COND.NO DICE NOMBRE+APELLIDO GESTOR', 'PRESENTACIÓN, SALUDO CORPORATIVO Y GRABACIÓN DE LA LLAMADA.COND.NO INFORMA DE LA GRABACIÓN DE LA LLAMADA', 'IDENTIFICACIÓN DEL INTERLOCUTOR - LOPD', 'IDENTIFICACIÓN DEL INTERLOCUTOR - LOPD.COND.TITULAR', 'IDENTIFICACIÓN DEL INTERLOCUTOR - LOPD.COND.AVALISTA', 'IDENTIFICACIÓN DEL INTERLOCUTOR - LOPD.COND.NO VERIFICA DNI', 'IDENTIFICACIÓN DEL INTERLOCUTOR - LOPD.COND.NO PREGUNTA POR EL CLIENTE DEUDOR', 'IDENTIFICACIÓN DEL INTERLOCUTOR - LOPD.COND.INCUMPLIMIENTO COMPLIANCE GRABACIÓN LLAMADAS (NUMERACIÓN TARJETA)', 'ESCUCHA COMPRENSIVA Y EMPÁTICA', 'ESCUCHA COMPRENSIVA Y EMPÁTICA.COND.NO DEMUESTRA INTERÉS POR LA SITUACIÓN DEL CLIENTE', 'ESCUCHA COMPRENSIVA Y EMPÁTICA.COND.NO TIENEN EN CUENTA LA INFORMACIÓN TRASLADADA POR EL CLIENTE PARA CONSEGUIR UN ACUERDO', 'ESCUCHA COMPRENSIVA Y EMPÁTICA.COND.ADOPTA UNA ACTITUD INAPROPIADA DE CARA AL CLIENTE (SARCÁSTICA, CONDESCENDIENTE, DE REPROCHE, ...)', 'TRATO CORDIAL AL CLIENTE', 'CAPACIDAD  DE EXPRESIÓN/ NEGOCIACIÓN', 'CAPACIDAD  DE EXPRESIÓN/ NEGOCIACIÓN.COND.NO ADECÚA SU LENGUAJE Y SU FORMA DE EXPRESARSE AL GRADO DE COMPRESIÓN DEL CLIENTE', 'CAPACIDAD  DE EXPRESIÓN/ NEGOCIACIÓN.COND.NO SE EXPRESA CON CLARIDAD Y PROFESIONALIDAD', 'CAPACIDAD  DE EXPRESIÓN/ NEGOCIACIÓN.COND.NO INTERACTÚA EN LA COMUNICACIÓN CON EL CLIENTE', 'CAPACIDAD  DE EXPRESIÓN/ NEGOCIACIÓN.COND.UTILIZA UN TONO DE VOZ INAPROPIADO (MECÁNICO/ AGRESIVO/PASIVO...)', 'CAPACIDAD  DE EXPRESIÓN/ NEGOCIACIÓN.COND.NO MUESTRA SEGURIDAD EN LA COMUNICACIÓN', 'CAPACIDAD  DE EXPRESIÓN/ NEGOCIACIÓN.COND.NO AFRONTA LAS OBJECIONES CON ARGUMENTOS ADECUADOS, CORRECTOS Y COMPLETOS', 'CAPACIDAD  DE EXPRESIÓN/ NEGOCIACIÓN.COND.NO APLICA UNA SOLUCIÓN ADAPTADA AL PERFIL DEL CLIENTE', 'DESPEDIDA CORPORATIVA', 'INFORMACIÓN MOTIVO DE LA LLAMADA', 'INFORMACIÓN MOTIVO DE LA LLAMADA.COND.NO ESPECIFICA CLARAMENTE EL MOTIVO DE LA LLAMADA', 'INFORMACIÓN MOTIVO DE LA LLAMADA.COND.NO ESPECIFICA EL IMPORTE DE LA DEUDA', 'INFORMACIÓN MOTIVO DE LA LLAMADA.COND.NO ESPECIFICA LA ANTIGÜEDAD DE LA DEUDA', 'SITUACIÓN ACTUAL DEL DEUDOR', 'SONDEO: IDENTIFICAR CAPACIDAD DE PAGO Y DETECCIÓN DE NECESIDADES', 'SONDEO: IDENTIFICAR CAPACIDAD DE PAGO Y DETECCIÓN DE NECESIDADES.COND.NO SE IDENTIFICA LA CAPACIDAD DE PAGO', 'SONDEO: IDENTIFICAR CAPACIDAD DE PAGO Y DETECCIÓN DE NECESIDADES.COND.EL GESTOR NO HACE REFERENCIA AL SIGUIENTE VENCIMIENTO CUANDO CIERRAN UN ACUERDO', 'SONDEO: IDENTIFICAR CAPACIDAD DE PAGO Y DETECCIÓN DE NECESIDADES.COND.NO SONDEA, PRESUPONE LA SITUACIÓN DEL CLIENTE', 'SONDEO: IDENTIFICAR CAPACIDAD DE PAGO Y DETECCIÓN DE NECESIDADES.COND.INTENTA RESOLVER LA LLAMADA RÁPIDO (SE QUITA LA LLAMADA DE ENCIMA)', 'DIRECCIÓN', 'DIRECCIÓN.COND.PASIVO: NO SE PERCIBE QUE EL GESTOR DOMINE LA CONVERSACIÓN, MÁS BIEN ÉSTA ES DIRIGIDA POR EL CLIENTE', 'DIRECCIÓN.COND.DESESTRUCTURADO: NO CONSIGUE LINEALIDAD Y CONCRECIÓN', 'DIRECCIÓN.COND.REACTIVO: ACTÚA “A LA DEFENSIVA”', 'DIRECCIÓN.COND.PERJUDICIAL: ANTE UN CLIENTE COMPLEJO/INSATISFECHO GENERA CONFRONTACIÓN', 'DIRECCIÓN.COND.ALARGA O PRECIPITA DE MANERA INNECESARIA EL CIERRE DE CONVERSACIÓN', 'DIRECCIÓN.COND.NO DIRIGE LA SECUENCIA DE LLAMADA MANTENIENDO EL ENFOQUE', 'PREPARACIÓN CIERRE : RESUMEN DE ACUERDOS', 'PREPARACIÓN CIERRE : RESUMEN DE ACUERDOS.COND.NO CONCRETA FECHA E IMPORTE EN CASO DE ACUERDO DE PAGO', 'PREPARACIÓN CIERRE : RESUMEN DE ACUERDOS.COND.NO CONCRETA FECHA DE SEGUIMIENTO EN CASO DE NO HABER ACUERDO DE PAGO', 'OFRECER TPV COMO ALTERNATIVA PRIORITARIA DE PAGO', 'OFRECER TPV COMO ALTERNATIVA PRIORITARIA DE PAGO.COND.NO OFRECE TARJETA DE DÉBITO CAIXA', 'OFRECER TPV COMO ALTERNATIVA PRIORITARIA DE PAGO.COND.NO OFRECE TARJETA DE CRÉDITO OTRA ENTIDAD', 'OFRECER TPV COMO ALTERNATIVA PRIORITARIA DE PAGO.COND.NO OFRECE TARJETA DE FAMILIAR/AMIGO', 'INFORMAR DE LAS VENTAJAS DEL PAGO POR TPV', 'INFORMAR DE LAS VENTAJAS DEL PAGO POR TPV.COND.NO INFORMA QUE LA FORMA DE PAGO 100% SEGURA', 'INFORMAR DE LAS VENTAJAS DEL PAGO POR TPV.COND.NO INFORMA DE LA COMODIDAD E INMEDIATEZ DEL PAGO', 'INFORMAR DE LAS VENTAJAS DEL PAGO POR TPV.COND.NO INFORMA QUE SUPONE MAYOR AHORRO', 'INFORMAR DE LAS VENTAJAS DEL PAGO POR TPV.COND.NO INFORMA QUE ES ADAPTABLE SEGÚN SUS NECESIDADES', 'ACEPTACIÓN ACUERDO DE PAGO POR TPV', 'ACEPTACIÓN ACUERDO DE PAGO POR TPV.COND.TARJETA DE DÉBITO CAIXA', 'ACEPTACIÓN ACUERDO DE PAGO POR TPV.COND.TARJETA DE CRÉDITO OTRA ENTIDAD', 'ACEPTACIÓN ACUERDO DE PAGO POR TPV.COND.TARJETA DE FAMILIAR/AMIGO', 'ACEPTACIÓN ACUERDO DE PAGO POR TPV.COND.NO SE ESPECIFICA TIPO DE TARJETA', 'ACEPTACIÓN ACUERDO DE PAGO POR TPV.COND.NO DISPONE DE TARJETA DE DÉBITO EN CAIXA', 'ACEPTACIÓN ACUERDO DE PAGO POR TPV.COND.NO DISPONE DE TARJETA DE CRÉDITO EN OTRA ENTIDAD', 'ACEPTACIÓN ACUERDO DE PAGO POR TPV.COND.NO DISPONE DE NINGUNA TARJETA', 'ACEPTACIÓN ACUERDO DE PAGO POR TPV.COND.NO TENGO NINGÚN FAMILIAR/AMIGO QUE ME PUEDA FACILITAR UNA TARJETA', 'ACEPTACIÓN ACUERDO DE PAGO POR TPV.COND.NO PUEDE CONSEGUIR UNA TARJETA DE UN TERCERO EN EL MOMENTO DE LA LLAMADA', 'ACEPTACIÓN ACUERDO DE PAGO POR TPV.COND.TARJETA BLOQUEADA', 'ACEPTACIÓN ACUERDO DE PAGO POR TPV.COND.DESCONOCE LA OPERATIVA DE PAGO CON TARJETA POR TELÉFONO Y QUE LE PROVOCA DESCONFIANZA', 'ACEPTACIÓN ACUERDO DE PAGO POR TPV.COND.NO DISPONE DE DINERO PARA SALDAR LA DEUDA', 'ACEPTACIÓN ACUERDO DE PAGO POR TPV.COND.OTROS', 'CUMPLIMIENTO PROTOCOLO ACEPTACIÓN TPV', 'PRIORIZA LOS CANALES DIGITALES U OTROS MEDIOS PARA REALIZAR LOS INGRESOS LO ANTES POSIBLE', 'PRIORIZA LOS CANALES DIGITALES U OTROS MEDIOS PARA REALIZAR LOS INGRESOS LO ANTES POSIBLE.COND.NO OFRECEN LAS ALTERNATIVAS DE PAGO DISPONIBLES (APARTE DE TPV)', 'PRIORIZA LOS CANALES DIGITALES U OTROS MEDIOS PARA REALIZAR LOS INGRESOS LO ANTES POSIBLE.COND.ENFOQUE INCORRECTO CON EXCESO DE ACUERDOS PARCIALES', 'ACEPTACIÓN ACUERDO DE PAGO POR OTRO CANAL (NO TPV)', 'ACEPTACIÓN ACUERDO DE PAGO POR OTRO CANAL (NO TPV).COND.PAGO A TRAVÉS DE UNA TRANSFERENCIA VÍA WEB', 'ACEPTACIÓN ACUERDO DE PAGO POR OTRO CANAL (NO TPV).COND.REALIZANDO UN INGRESO EN CAJERO', 'ACEPTACIÓN ACUERDO DE PAGO POR OTRO CANAL (NO TPV).COND.REALIZANDO UN INGRESO EN OFICINA', 'ACEPTACIÓN ACUERDO DE PAGO POR OTRO CANAL (NO TPV).COND.PAGO A TERCEROS_APP CAIXA (EN RENTING, CHM, COMERCIA)', 'ACEPTACIÓN ACUERDO DE PAGO POR OTRO CANAL (NO TPV).COND.ACUERDO PARCIAL OFRECIDO POR EL GESTOR (ULTIMA ALTERNATIVA O PROPUESTA DEL CLIENTE)', 'ACEPTACIÓN ACUERDO DE PAGO POR OTRO CANAL (NO TPV).COND.ACUERDO PARCIAL OFRECIDO POR EL GESTOR (ALTERNATIVA PRIORITARIA)', 'ACEPTACIÓN ACUERDO DE PAGO POR OTRO CANAL (NO TPV).COND.OTRA OPCIÓN', 'ACEPTACIÓN ACUERDO DE PAGO POR OTRO CANAL (NO TPV).COND.CONFINAMIENTO Y LA OFICINA O CAJERO ESTÁ FUERA DE LA ZONA CONFINADA', 'ACEPTACIÓN ACUERDO DE PAGO POR OTRO CANAL (NO TPV).COND.HOSPITALIZACIÓN', 'ACEPTACIÓN ACUERDO DE PAGO POR OTRO CANAL (NO TPV).COND.MIEDO POR CONTAGIO DE COVID', 'ACEPTACIÓN ACUERDO DE PAGO POR OTRO CANAL (NO TPV).COND.LA RELACIÓN CON LOS EMPLEADOS DE LA SUCURSAL NO ES BUENA', 'ACEPTACIÓN ACUERDO DE PAGO POR OTRO CANAL (NO TPV).COND.NO DISPONE DE DINERO PARA SALDAR LA DEUDA', 'ACEPTACIÓN ACUERDO DE PAGO POR OTRO CANAL (NO TPV).COND.SIN ACCESO A INTERNET', 'ACEPTACIÓN ACUERDO DE PAGO POR OTRO CANAL (NO TPV).COND.FALTA MANEJO DE LA WEB O APLICACIONES DE CAIXA', 'ACEPTACIÓN ACUERDO DE PAGO POR OTRO CANAL (NO TPV).COND.OTROS', 'USO EFECTIVO DEL SCRIPT', 'USO EFECTIVO DEL SCRIPT.COND.NO HACE USO EFECTIVO DEL SCRIPT (TODOS LOS CASOS SALVO PROTOCOLO NEG. OFICINA)', 'USO EFECTIVO DEL SCRIPT.COND.NEG OFI_1: NO SIGUE PROCEDIMIENTO NEGOCIACIÓN OFICINA COMO OBJECIÓN CLIENTE', 'USO EFECTIVO DEL SCRIPT.COND.NEG OFI_2: INFORMACIÓN INSUFICIENTE DEL CLIENTE_ NO SIGUE PROCEDIMIENTO', 'USO EFECTIVO DEL SCRIPT.COND.NEG OFI_3: INFORMACIÓN SUFICIENTE DEL CLIENTE_ NO SIGUE PROCEDIMIENTO', 'BUSCAR EL COMPROMISO DE PAGO ENUNCIANDO LOS BENEFICIOS Y LAS CONSECUENCIAS DE LA REGULARIZACIÓN', 'BUSCAR EL COMPROMISO DE PAGO ENUNCIANDO LOS BENEFICIOS Y LAS CONSECUENCIAS DE LA REGULARIZACIÓN.COND.NO BUSCA EL COMPROMISO DE PAGO ENUNCIANDO BENEFICIOS/CONSECUENCIAS', 'BUSCAR EL COMPROMISO DE PAGO ENUNCIANDO LOS BENEFICIOS Y LAS CONSECUENCIAS DE LA REGULARIZACIÓN.COND.NO ES EXIGENTE ACORDANDO UNA FECHA', 'RESPONSABILIDAD  CORPORATIVA', 'RESPONSABILIDAD  CORPORATIVA.COND.NO SE DISCULPA ANTE LAS MOLESTIAS EVIDENCIADAS POR EL CLIENTE DURANTE LA LLAMADA', 'RESPONSABILIDAD  CORPORATIVA.COND.LA FALTA DE PROFESIONALIDAD DEL GESTOR  TRASLADA UNA IMAGEN NEGATIVA DE CAIXABANK', 'EVITA EL RIESGO REPUTACIONAL PARA CAIXABANK DURANTE TODA LA CONVERSACIÓN', 'EVITA EL RIESGO REPUTACIONAL PARA CAIXABANK DURANTE TODA LA CONVERSACIÓN.COND.DEUDORES HIPOTECARIOS EN RIESGO DE EXCLUSIÓN  Y RIESGO REPUTACIONAL', 'EVITA EL RIESGO REPUTACIONAL PARA CAIXABANK DURANTE TODA LA CONVERSACIÓN.COND.QUEJAS / RECLAMACIONES / AMENAZAS', '¿LA ACCIÓN DEL GESTOR DURANTE LA LLAMADA CONSIGUE MODIFICAR LA ACTITUD INICIAL DEL CLIENTE?', '¿LA ACCIÓN DEL GESTOR DURANTE LA LLAMADA CONSIGUE MODIFICAR LA ACTITUD INICIAL DEL CLIENTE?.COND.INCREMENTA LA PERCEPCIÓN NEGATIVA DEL CLIENTE', '¿LA ACCIÓN DEL GESTOR DURANTE LA LLAMADA CONSIGUE MODIFICAR LA ACTITUD INICIAL DEL CLIENTE?.COND.REDUCE LA PERCEPCIÓN NEGATIVA DEL CLIENTE', '¿LA ACCIÓN DEL GESTOR DURANTE LA LLAMADA CONSIGUE MODIFICAR LA ACTITUD INICIAL DEL CLIENTE?.COND.INCREMENTA LA PERCEPCIÓN POSITIVA DEL CLIENTE', '¿LA ACCIÓN DEL GESTOR DURANTE LA LLAMADA CONSIGUE MODIFICAR LA ACTITUD INICIAL DEL CLIENTE?.COND.LA CAMBIA DE SATISFECHO A INSATISFECHO', 'OBSERVACIONES']\n"
          ]
        }
      ]
    },
    {
      "cell_type": "code",
      "source": [
        "df['FECHA EVALUACIÓN'] = pd.to_datetime(df['FECHA EVALUACIÓN'], dayfirst=True, errors='coerce')\n",
        "df['AÑO_EVALUACIÓN'] = df['FECHA EVALUACIÓN'].dt.year\n",
        "df['FECHA_INFORME'] = df['FECHA EVALUACIÓN'] + pd.Timedelta(days=1)\n",
        "df['MES_INFORME'] = df['FECHA_INFORME'].dt.month\n",
        "nombres_meses = {\n",
        "    1: 'enero', 2: 'febrero', 3: 'marzo', 4: 'abril',\n",
        "    5: 'mayo', 6: 'junio', 7: 'julio', 8: 'agosto',\n",
        "    9: 'septiembre', 10: 'octubre', 11: 'noviembre', 12: 'diciembre'\n",
        "}\n",
        "df['MES_INFORME'] = df['MES_INFORME'].map(nombres_meses)\n",
        "df['AÑO_INFORME'] = df['FECHA_INFORME'].dt.year\n",
        "df['FECHA EVALUACIÓN'] = pd.to_datetime(df[\"FECHA EVALUACIÓN\"]).dt.strftime(\"%d/%m/%Y\")\n",
        "df['FECHA_INFORME'] = pd.to_datetime(df[\"FECHA_INFORME\"]).dt.strftime(\"%d/%m/%Y\")\n",
        "df['FECHA'] = pd.to_datetime(df['FECHA'], dayfirst=True, errors='coerce')\n",
        "df['AÑO_LLAMADA'] = df['FECHA'].dt.year\n",
        "df['FECHA'] = pd.to_datetime(df['FECHA']).dt.strftime(\"%d/%m/%Y\")\n",
        "df = df.rename(columns={\n",
        "    'FECHA': 'FECHA_LLAMADA',\n",
        "    'FECHA EVALUACIÓN': 'FECHA_EVALUACIÓN'\n",
        "})"
      ],
      "metadata": {
        "id": "E7NfKWzRHhIB"
      },
      "execution_count": 5,
      "outputs": []
    },
    {
      "cell_type": "code",
      "source": [
        "#df.drop(['CATEGORIA1', 'CATEGORIA2', 'CATEGORIA3', 'CATEGORIA4', 'GRABACIÓN', 'ARCHIVO_ADJUNTO', 'ARCHIVO_ADJUNTO2'], axis=1, inplace=True)\n",
        "#df.drop(['ARCHIVO_ADJUNTO3', 'ARCHIVO_ADJUNTO4','ARCHIVO_ADJUNTO5', 'MOTIVO', 'ALCANCE', 'DISPOSITIVO', 'IDEVENTCLIENTE', 'EQUIPO'], axis=1, inplace=True)\n",
        "df['AGENTE'] = df['AGENTE'].str.split().str[0]\n",
        "df[['EMPRESA_ABREV', 'PRODUCTO', 'R_NR', 'PERIMETRO', 'SEGMENTO']] = df['SERVICIO'].str.split('_', expand=True)\n",
        "df['EMPRESA'] = df['EMPRESA'].replace('DIAGONAL', 'COLECTA')\n",
        "df['EMPRESA'] = df['EMPRESA'].replace('GESCOBRO', 'GCBE')\n",
        "df['EMPRESA_ABREV'] = df['EMPRESA_ABREV'].replace('GES', 'GCBE')\n",
        "df['EMPRESA_ABREV'] = df['EMPRESA_ABREV'].replace('DIA', 'COL')\n",
        "#df.drop(['OBSERVACIONES','MEDIDOR', 'IDESPECIALISTA', 'RESPUESTA', 'CIP', 'IDENTIFICACIÓN DEL INTERLOCUTOR - LOPD.COND.TITULAR', 'IDENTIFICACIÓN DEL INTERLOCUTOR - LOPD.COND.AVALISTA'],axis=1, inplace=True)\n",
        "df = df.rename(columns={'PRESENTACIÓN, SALUDO CORPORATIVO Y GRABACIÓN DE LA LLAMADA': 'P1'})\n",
        "df = df.rename(columns={'PRESENTACIÓN, SALUDO CORPORATIVO Y GRABACIÓN DE LA LLAMADA.COND.NO SE PRESENTA \"EN NOMBRE DE LA ENTIDAD\" DE LA DEUDA (MONOPRODUCTO)': 'P11'})\n",
        "df = df.rename(columns={'PRESENTACIÓN, SALUDO CORPORATIVO Y GRABACIÓN DE LA LLAMADA.COND.NO DICE NOMBRE+APELLIDO GESTOR': 'P12'})\n",
        "df = df.rename(columns={'PRESENTACIÓN, SALUDO CORPORATIVO Y GRABACIÓN DE LA LLAMADA.COND.NO DICE NOMBRE AGENCIA': 'P13'})\n",
        "df = df.rename(columns={'PRESENTACIÓN, SALUDO CORPORATIVO Y GRABACIÓN DE LA LLAMADA.COND.NO INFORMA DE LA GRABACIÓN DE LA LLAMADA': 'P14'})\n",
        "df = df.rename(columns={'PRESENTACIÓN, SALUDO CORPORATIVO Y GRABACIÓN DE LA LLAMADA.COND.NO SE PRESENTA \"EN NOMBRE DE CAIXABANK\" Y ESPECIFICA LA ENTIDAD DE CADA DEUDA (MULTIPRODUCTOS)': 'P15'})\n",
        "df = df.rename(columns={'IDENTIFICACIÓN DEL INTERLOCUTOR - LOPD': 'P2'})\n",
        "df = df.rename(columns={'IDENTIFICACIÓN DEL INTERLOCUTOR - LOPD.COND.NO VERIFICA DNI': 'P21'})\n",
        "df = df.rename(columns={'IDENTIFICACIÓN DEL INTERLOCUTOR - LOPD.COND.NO PREGUNTA POR EL CLIENTE DEUDOR': 'P22'})\n",
        "df = df.rename(columns={'IDENTIFICACIÓN DEL INTERLOCUTOR - LOPD.COND.INCUMPLIMIENTO COMPLIANCE GRABACIÓN LLAMADAS (NUMERACIÓN TARJETA)': 'P23'})\n",
        "df = df.rename(columns={'ESCUCHA COMPRENSIVA Y EMPÁTICA': 'P3'})\n",
        "df = df.rename(columns={'ESCUCHA COMPRENSIVA Y EMPÁTICA.COND.NO DEMUESTRA INTERÉS POR LA SITUACIÓN DEL CLIENTE': 'P31'})\n",
        "df = df.rename(columns={'ESCUCHA COMPRENSIVA Y EMPÁTICA.COND.NO TIENEN EN CUENTA LA INFORMACIÓN TRASLADADA POR EL CLIENTE PARA CONSEGUIR UN ACUERDO': 'P32'})\n",
        "df = df.rename(columns={'ESCUCHA COMPRENSIVA Y EMPÁTICA.COND.ADOPTA UNA ACTITUD INAPROPIADA DE CARA AL CLIENTE (SARCÁSTICA, CONDESCENDIENTE, DE REPROCHE, ...)': 'P33'})\n",
        "df = df.rename(columns={'TRATO CORDIAL AL CLIENTE': 'P4'})\n",
        "df = df.rename(columns={'DESPEDIDA CORPORATIVA': 'P5'})\n",
        "df = df.rename(columns={'RESPONSABILIDAD  CORPORATIVA': 'P6'})\n",
        "df = df.rename(columns={'RESPONSABILIDAD  CORPORATIVA.COND.NO SE DISCULPA ANTE LAS MOLESTIAS EVIDENCIADAS POR EL CLIENTE DURANTE LA LLAMADA': 'P61'})\n",
        "df = df.rename(columns={'RESPONSABILIDAD  CORPORATIVA.COND.LA FALTA DE PROFESIONALIDAD DEL GESTOR  TRASLADA UNA IMAGEN NEGATIVA DE CAIXABANK': 'P62'})\n",
        "columnas_a_modificar = ['P1', 'P2', 'P3', 'P4', 'P5', 'P6']\n",
        "for col in columnas_a_modificar:\n",
        "    df[col] = df[col].map({'Sí': True, 'No': False})\n",
        "df = df.rename(columns={'INFORMACIÓN MOTIVO DE LA LLAMADA': 'S1'})\n",
        "df = df.rename(columns={'INFORMACIÓN MOTIVO DE LA LLAMADA.COND.NO ESPECIFICA CLARAMENTE EL MOTIVO DE LA LLAMADA': 'S11'})\n",
        "df = df.rename(columns={'INFORMACIÓN MOTIVO DE LA LLAMADA.COND.NO ESPECIFICA EL IMPORTE DE LA DEUDA': 'S12'})\n",
        "df = df.rename(columns={'INFORMACIÓN MOTIVO DE LA LLAMADA.COND.NO ESPECIFICA LA ANTIGÜEDAD DE LA DEUDA': 'S13'})\n",
        "df = df.rename(columns={'SITUACIÓN ACTUAL DEL DEUDOR': 'S2'})\n",
        "df = df.rename(columns={'PREPARACIÓN CIERRE : RESUMEN DE ACUERDOS': 'S5'})\n",
        "df = df.rename(columns={'PREPARACIÓN CIERRE : RESUMEN DE ACUERDOS.COND.NO CONCRETA FECHA E IMPORTE EN CASO DE ACUERDO DE PAGO': 'S51'})\n",
        "df = df.rename(columns={'PREPARACIÓN CIERRE : RESUMEN DE ACUERDOS.COND.NO CONCRETA FECHA DE SEGUIMIENTO EN CASO DE NO HABER ACUERDO DE PAGO': 'S52'})\n",
        "df = df.rename(columns={'SONDEO: IDENTIFICAR CAPACIDAD DE PAGO Y DETECCIÓN DE NECESIDADES': 'S3'})\n",
        "df = df.rename(columns={'SONDEO: IDENTIFICAR CAPACIDAD DE PAGO Y DETECCIÓN DE NECESIDADES.COND.NO SE IDENTIFICA LA CAPACIDAD DE PAGO': 'S31'})\n",
        "df = df.rename(columns={'SONDEO: IDENTIFICAR CAPACIDAD DE PAGO Y DETECCIÓN DE NECESIDADES.COND.EL GESTOR NO HACE REFERENCIA AL SIGUIENTE VENCIMIENTO CUANDO CIERRAN UN ACUERDO':'S32'})\n",
        "df = df.rename(columns={'SONDEO: IDENTIFICAR CAPACIDAD DE PAGO Y DETECCIÓN DE NECESIDADES.COND.NO SONDEA, PRESUPONE LA SITUACIÓN DEL CLIENTE': 'S33'})\n",
        "df = df.rename(columns={'SONDEO: IDENTIFICAR CAPACIDAD DE PAGO Y DETECCIÓN DE NECESIDADES.COND.INTENTA RESOLVER LA LLAMADA RÁPIDO (SE QUITA LA LLAMADA DE ENCIMA)': 'S34'})\n",
        "df = df.rename(columns={'DIRECCIÓN': 'S4'})\n",
        "df = df.rename(columns={'DIRECCIÓN.COND.PASIVO: NO SE PERCIBE QUE EL GESTOR DOMINE LA CONVERSACIÓN, MÁS BIEN ÉSTA ES DIRIGIDA POR EL CLIENTE': 'S41'})\n",
        "df = df.rename(columns={'DIRECCIÓN.COND.DESESTRUCTURADO: NO CONSIGUE LINEALIDAD Y CONCRECIÓN': 'S42'})\n",
        "df = df.rename(columns={'DIRECCIÓN.COND.REACTIVO: ACTÚA “A LA DEFENSIVA”': 'S43'})\n",
        "df = df.rename(columns={'DIRECCIÓN.COND.PERJUDICIAL: ANTE UN CLIENTE COMPLEJO/INSATISFECHO GENERA CONFRONTACIÓN': 'S44'})\n",
        "df = df.rename(columns={'DIRECCIÓN.COND.ALARGA O PRECIPITA DE MANERA INNECESARIA EL CIERRE DE CONVERSACIÓN': 'S45'})\n",
        "df = df.rename(columns={'DIRECCIÓN.COND.NO DIRIGE LA SECUENCIA DE LLAMADA MANTENIENDO EL ENFOQUE': 'S46'})\n",
        "columnas_a_modificarS = ['S1', 'S2', 'S3', 'S4', 'S5']\n",
        "\n",
        "for col in columnas_a_modificarS:\n",
        "    df[col] = df[col].apply(lambda x: True if x == 'Sí' else False if x == 'No' else 'No Procede')\n",
        "\n",
        "df = df.rename(columns={'USO EFECTIVO DEL SCRIPT': 'T1'})\n",
        "df = df.rename(columns={'USO EFECTIVO DEL SCRIPT.COND.NO HACE USO EFECTIVO DEL SCRIPT (TODOS LOS CASOS SALVO PROTOCOLO NEG. OFICINA)': 'T11'})\n",
        "df = df.rename(columns={'USO EFECTIVO DEL SCRIPT.COND.NEG OFI_1: NO SIGUE PROCEDIMIENTO NEGOCIACIÓN OFICINA COMO OBJECIÓN CLIENTE': 'T12'})\n",
        "df = df.rename(columns={'USO EFECTIVO DEL SCRIPT.COND.NEG OFI_2: INFORMACIÓN INSUFICIENTE DEL CLIENTE_ NO SIGUE PROCEDIMIENTO': 'T13'})\n",
        "df = df.rename(columns={'USO EFECTIVO DEL SCRIPT.COND.NEG OFI_3: INFORMACIÓN SUFICIENTE DEL CLIENTE_ NO SIGUE PROCEDIMIENTO': 'T14'})\n",
        "df = df.rename(columns={'BUSCAR EL COMPROMISO DE PAGO ENUNCIANDO LOS BENEFICIOS Y LAS CONSECUENCIAS DE LA REGULARIZACIÓN': 'T2'})\n",
        "df = df.rename(columns={'BUSCAR EL COMPROMISO DE PAGO ENUNCIANDO LOS BENEFICIOS Y LAS CONSECUENCIAS DE LA REGULARIZACIÓN.COND.NO BUSCA EL COMPROMISO DE PAGO ENUNCIANDO BENEFICIOS/CONSECUENCIAS': 'T21'})\n",
        "df = df.rename(columns={'BUSCAR EL COMPROMISO DE PAGO ENUNCIANDO LOS BENEFICIOS Y LAS CONSECUENCIAS DE LA REGULARIZACIÓN.COND.NO ES EXIGENTE ACORDANDO UNA FECHA': 'T22'})\n",
        "df = df.rename(columns={'CAPACIDAD  DE EXPRESIÓN/ NEGOCIACIÓN': 'T3'})\n",
        "df = df.rename(columns={'CAPACIDAD  DE EXPRESIÓN/ NEGOCIACIÓN.COND.NO ADECÚA SU LENGUAJE Y SU FORMA DE EXPRESARSE AL GRADO DE COMPRESIÓN DEL CLIENTE': 'T31'})\n",
        "df = df.rename(columns={'CAPACIDAD  DE EXPRESIÓN/ NEGOCIACIÓN.COND.NO SE EXPRESA CON CLARIDAD Y PROFESIONALIDAD': 'T32'})\n",
        "df = df.rename(columns={'CAPACIDAD  DE EXPRESIÓN/ NEGOCIACIÓN.COND.NO INTERACTÚA EN LA COMUNICACIÓN CON EL CLIENTE': 'T33'})\n",
        "df = df.rename(columns={'CAPACIDAD  DE EXPRESIÓN/ NEGOCIACIÓN.COND.UTILIZA UN TONO DE VOZ INAPROPIADO (MECÁNICO/ AGRESIVO/PASIVO...)': 'T34'})\n",
        "df = df.rename(columns={'CAPACIDAD  DE EXPRESIÓN/ NEGOCIACIÓN.COND.NO MUESTRA SEGURIDAD EN LA COMUNICACIÓN': 'T35'})\n",
        "df = df.rename(columns={'CAPACIDAD  DE EXPRESIÓN/ NEGOCIACIÓN.COND.NO AFRONTA LAS OBJECIONES CON ARGUMENTOS ADECUADOS, CORRECTOS Y COMPLETOS': 'T36'})\n",
        "df = df.rename(columns={'CAPACIDAD  DE EXPRESIÓN/ NEGOCIACIÓN.COND.NO APLICA UNA SOLUCIÓN ADAPTADA AL PERFIL DEL CLIENTE': 'T37'})\n",
        "columnas_a_modificarT = ['T1', 'T2', 'T3']\n",
        "for col in columnas_a_modificarT:\n",
        "    df[col] = df[col].apply(lambda x: True if x == 'Sí' else False if x == 'No' else 'No Procede')\n",
        "df = df.rename(columns={'OFRECER TPV COMO ALTERNATIVA PRIORITARIA DE PAGO': 'C1'})\n",
        "df = df.rename(columns={'OFRECER TPV COMO ALTERNATIVA PRIORITARIA DE PAGO.COND.NO OFRECE TARJETA DE DÉBITO CAIXA': 'C11'})\n",
        "df = df.rename(columns={'OFRECER TPV COMO ALTERNATIVA PRIORITARIA DE PAGO.COND.NO OFRECE TARJETA DE CRÉDITO OTRA ENTIDAD': 'C12'})\n",
        "df = df.rename(columns={'OFRECER TPV COMO ALTERNATIVA PRIORITARIA DE PAGO.COND.NO OFRECE TARJETA DE FAMILIAR/AMIGO': 'C13'})\n",
        "df = df.rename(columns={'INFORMAR DE LAS VENTAJAS DEL PAGO POR TPV': 'C14'})\n",
        "df = df.rename(columns={'INFORMAR DE LAS VENTAJAS DEL PAGO POR TPV.COND.NO INFORMA QUE LA FORMA DE PAGO 100% SEGURA': 'C15'})\n",
        "df = df.rename(columns={'INFORMAR DE LAS VENTAJAS DEL PAGO POR TPV.COND.NO INFORMA DE LA COMODIDAD E INMEDIATEZ DEL PAGO': 'C16'})\n",
        "df = df.rename(columns={'INFORMAR DE LAS VENTAJAS DEL PAGO POR TPV.COND.NO INFORMA QUE SUPONE MAYOR AHORRO': 'C17'})\n",
        "df = df.rename(columns={'INFORMAR DE LAS VENTAJAS DEL PAGO POR TPV.COND.NO INFORMA QUE ES ADAPTABLE SEGÚN SUS NECESIDADES': 'C18'})\n",
        "df = df.rename(columns={'ACEPTACIÓN ACUERDO DE PAGO POR TPV': 'C19'})\n",
        "df = df.rename(columns={'ACEPTACIÓN ACUERDO DE PAGO POR TPV.COND.TARJETA DE DÉBITO CAIXA': 'C110'})\n",
        "df = df.rename(columns={'ACEPTACIÓN ACUERDO DE PAGO POR TPV.COND.TARJETA DE CRÉDITO OTRA ENTIDAD': 'C111'})\n",
        "df = df.rename(columns={'ACEPTACIÓN ACUERDO DE PAGO POR TPV.COND.TARJETA DE FAMILIAR/AMIGO': 'C112'})\n",
        "df = df.rename(columns={'ACEPTACIÓN ACUERDO DE PAGO POR TPV.COND.NO SE ESPECIFICA TIPO DE TARJETA': 'C113'})\n",
        "df = df.rename(columns={'ACEPTACIÓN ACUERDO DE PAGO POR TPV.COND.NO DISPONE DE TARJETA DE DÉBITO EN CAIXA': 'C114'})\n",
        "df = df.rename(columns={'ACEPTACIÓN ACUERDO DE PAGO POR TPV.COND.NO DISPONE DE TARJETA DE CRÉDITO EN OTRA ENTIDAD': 'C115'})\n",
        "df = df.rename(columns={'ACEPTACIÓN ACUERDO DE PAGO POR TPV.COND.NO DISPONE DE NINGUNA TARJETA': 'C116'})\n",
        "df = df.rename(columns={'ACEPTACIÓN ACUERDO DE PAGO POR TPV.COND.NO TENGO NINGÚN FAMILIAR/AMIGO QUE ME PUEDA FACILITAR UNA TARJETA': 'C117'})\n",
        "df = df.rename(columns={'ACEPTACIÓN ACUERDO DE PAGO POR TPV.COND.NO PUEDE CONSEGUIR UNA TARJETA DE UN TERCERO EN EL MOMENTO DE LA LLAMADA': 'C118'})\n",
        "df = df.rename(columns={'ACEPTACIÓN ACUERDO DE PAGO POR TPV.COND.TARJETA BLOQUEADA': 'C119'})\n",
        "df = df.rename(columns={'ACEPTACIÓN ACUERDO DE PAGO POR TPV.COND.DESCONOCE LA OPERATIVA DE PAGO CON TARJETA POR TELÉFONO Y QUE LE PROVOCA DESCONFIANZA': 'C120'})\n",
        "df = df.rename(columns={'ACEPTACIÓN ACUERDO DE PAGO POR TPV.COND.NO DISPONE DE DINERO PARA SALDAR LA DEUDA': 'C121'})\n",
        "df = df.rename(columns={'ACEPTACIÓN ACUERDO DE PAGO POR TPV.COND.OTROS': 'C122'})\n",
        "df = df.rename(columns={'CUMPLIMIENTO PROTOCOLO ACEPTACIÓN TPV': 'C123'})\n",
        "df = df.rename(columns={'PRIORIZA LOS CANALES DIGITALES U OTROS MEDIOS PARA REALIZAR LOS INGRESOS LO ANTES POSIBLE': 'C2'})\n",
        "df = df.rename(columns={'PRIORIZA LOS CANALES DIGITALES U OTROS MEDIOS PARA REALIZAR LOS INGRESOS LO ANTES POSIBLE.COND.NO OFRECEN LAS ALTERNATIVAS DE PAGO DISPONIBLES (APARTE DE TPV)': 'C21'})\n",
        "df = df.rename(columns={'PRIORIZA LOS CANALES DIGITALES U OTROS MEDIOS PARA REALIZAR LOS INGRESOS LO ANTES POSIBLE.COND.ENFOQUE INCORRECTO CON EXCESO DE ACUERDOS PARCIALES': 'C22'})\n",
        "df = df.rename(columns={'ACEPTACIÓN ACUERDO DE PAGO POR OTRO CANAL (NO TPV)': 'C23'})\n",
        "df = df.rename(columns={'ACEPTACIÓN ACUERDO DE PAGO POR OTRO CANAL (NO TPV).COND.PAGO A TRAVÉS DE UNA TRANSFERENCIA VÍA WEB': 'C24'})\n",
        "df = df.rename(columns={'ACEPTACIÓN ACUERDO DE PAGO POR OTRO CANAL (NO TPV).COND.REALIZANDO UN INGRESO EN CAJERO': 'C25'})\n",
        "df = df.rename(columns={'ACEPTACIÓN ACUERDO DE PAGO POR OTRO CANAL (NO TPV).COND.REALIZANDO UN INGRESO EN OFICINA': 'C26'})\n",
        "df = df.rename(columns={'ACEPTACIÓN ACUERDO DE PAGO POR OTRO CANAL (NO TPV).COND.PAGO A TERCEROS_APP CAIXA (EN RENTING, CHM, COMERCIA)': 'C27'})\n",
        "df = df.rename(columns={'ACEPTACIÓN ACUERDO DE PAGO POR OTRO CANAL (NO TPV).COND.ACUERDO PARCIAL OFRECIDO POR EL GESTOR (ULTIMA ALTERNATIVA O PROPUESTA DEL CLIENTE)': 'C28'})\n",
        "df = df.rename(columns={'ACEPTACIÓN ACUERDO DE PAGO POR OTRO CANAL (NO TPV).COND.ACUERDO PARCIAL OFRECIDO POR EL GESTOR (ALTERNATIVA PRIORITARIA)': 'C29'})\n",
        "df = df.rename(columns={'ACEPTACIÓN ACUERDO DE PAGO POR OTRO CANAL (NO TPV).COND.OTRA OPCIÓN': 'C211'})\n",
        "df = df.rename(columns={'ACEPTACIÓN ACUERDO DE PAGO POR OTRO CANAL (NO TPV).COND.CONFINAMIENTO Y LA OFICINA O CAJERO ESTÁ FUERA DE LA ZONA CONFINADA': 'C212'})\n",
        "df = df.rename(columns={'ACEPTACIÓN ACUERDO DE PAGO POR OTRO CANAL (NO TPV).COND.HOSPITALIZACIÓN': 'C213'})\n",
        "df = df.rename(columns={'ACEPTACIÓN ACUERDO DE PAGO POR OTRO CANAL (NO TPV).COND.MIEDO POR CONTAGIO DE COVID': 'C214'})\n",
        "df = df.rename(columns={'ACEPTACIÓN ACUERDO DE PAGO POR OTRO CANAL (NO TPV).COND.LA RELACIÓN CON LOS EMPLEADOS DE LA SUCURSAL NO ES BUENA': 'C215'})\n",
        "df = df.rename(columns={'ACEPTACIÓN ACUERDO DE PAGO POR OTRO CANAL (NO TPV).COND.NO DISPONE DE DINERO PARA SALDAR LA DEUDA': 'C216'})\n",
        "df = df.rename(columns={'ACEPTACIÓN ACUERDO DE PAGO POR OTRO CANAL (NO TPV).COND.SIN ACCESO A INTERNET': 'C217'})\n",
        "df = df.rename(columns={'ACEPTACIÓN ACUERDO DE PAGO POR OTRO CANAL (NO TPV).COND.FALTA MANEJO DE LA WEB O APLICACIONES DE CAIXA': 'C218'})\n",
        "df = df.rename(columns={'ACEPTACIÓN ACUERDO DE PAGO POR OTRO CANAL (NO TPV).COND.OTROS': 'C219'})\n",
        "columnas_a_modificarC = ['C1', 'C14', 'C19', 'C2', 'C123', 'C23']\n",
        "for col in columnas_a_modificarC:\n",
        "    df[col] = df[col].apply(lambda x: True if x == 'Sí' else False if x == 'No' else 'No Procede')\n",
        "df = df.rename(columns={'ID SERVICIO': 'ID_SERVICIO'})\n",
        "df = df.rename(columns={'ACUERDO DE PAGO': 'ACUERDO_DE_PAGO'})\n",
        "df = df.rename(columns={'EVITA EL RIESGO REPUTACIONAL PARA CAIXABANK DURANTE TODA LA CONVERSACIÓN': 'E1'})\n",
        "df = df.rename(columns={'EVITA EL RIESGO REPUTACIONAL PARA CAIXABANK DURANTE TODA LA CONVERSACIÓN.COND.DEUDORES HIPOTECARIOS EN RIESGO DE EXCLUSIÓN  Y RIESGO REPUTACIONAL': 'E11'})\n",
        "df = df.rename(columns={'EVITA EL RIESGO REPUTACIONAL PARA CAIXABANK DURANTE TODA LA CONVERSACIÓN.COND.QUEJAS / RECLAMACIONES / AMENAZAS': 'E12'})\n",
        "df = df.rename(columns={'¿LA ACCIÓN DEL GESTOR DURANTE LA LLAMADA CONSIGUE MODIFICAR LA ACTITUD INICIAL DEL CLIENTE?':'A1'})\n",
        "df=  df.rename(columns={'¿LA ACCIÓN DEL GESTOR DURANTE LA LLAMADA CONSIGUE MODIFICAR LA ACTITUD INICIAL DEL CLIENTE?.COND.INCREMENTA LA PERCEPCIÓN NEGATIVA DEL CLIENTE': 'A11'})\n",
        "df = df.rename(columns={'¿LA ACCIÓN DEL GESTOR DURANTE LA LLAMADA CONSIGUE MODIFICAR LA ACTITUD INICIAL DEL CLIENTE?.COND.REDUCE LA PERCEPCIÓN NEGATIVA DEL CLIENTE': 'A12'})\n",
        "df = df.rename(columns={'¿LA ACCIÓN DEL GESTOR DURANTE LA LLAMADA CONSIGUE MODIFICAR LA ACTITUD INICIAL DEL CLIENTE?.COND.INCREMENTA LA PERCEPCIÓN POSITIVA DEL CLIENTE': 'A13'})\n",
        "df = df.rename(columns={'¿LA ACCIÓN DEL GESTOR DURANTE LA LLAMADA CONSIGUE MODIFICAR LA ACTITUD INICIAL DEL CLIENTE?.COND.LA CAMBIA DE SATISFECHO A INSATISFECHO':'A14'})\n",
        "columnas_a_modificarF = ['E1','A1']\n",
        "for col in columnas_a_modificarF:\n",
        "    df[col] = df[col].map({'Sí': True, 'No': False})\n",
        "df['S5M'] = df['S5'].apply(\n",
        "    lambda x: 1 if x == 1 or x == 'No Procede' else 0 if x == 0 else pd.NA)\n",
        "df['C1M'] = df['C1'].apply(\n",
        "    lambda x: 1 if x == 1 or x == 'No Procede' else 0 if x == 0 else pd.NA)\n",
        "df['C14M'] = df['C14'].apply(\n",
        "    lambda x: 1 if x == 1 or x == 'No Procede' else 0 if x == 0 else pd.NA)\n",
        "df['C19M'] = df['C19'].apply(\n",
        "    lambda x: 1 if x == 1 or x == 'No Procede' else 0 if x == 0 else pd.NA)\n",
        "df['C123M'] = df['C123'].apply(\n",
        "    lambda x: 1 if x == 1 or x == 'No Procede' else 0 if x == 0 else pd.NA)\n",
        "df['C2M'] = df['C2'].apply(\n",
        "    lambda x: 1 if x == 1 or x == 'No Procede' else 0 if x == 0 else pd.NA)\n",
        "df['C23M'] = df['C23'].apply(\n",
        "    lambda x: 1 if x == 1 or x == 'No Procede' else 0 if x == 0 else pd.NA)\n",
        "df['T1M'] = df['T1'].apply(\n",
        "    lambda x: 1 if x == 1 or x == 'No Procede' else 0 if x == 0 else pd.NA)\n",
        "df['T2M'] = df['T2'].apply(\n",
        "    lambda x: 1 if x == 1 or x == 'No Procede' else 0 if x == 0 else pd.NA)\n",
        "cols_booleanas = ['S5M', 'C1M', 'T1M', 'T2M']\n",
        "df[cols_booleanas] = df[cols_booleanas].astype(bool)"
      ],
      "metadata": {
        "id": "7mzDmgrlGSKs"
      },
      "execution_count": 6,
      "outputs": []
    },
    {
      "cell_type": "code",
      "source": [
        "import unicodedata\n",
        "\n",
        "# 🧾 Lista de columnas a eliminar (sin acentos ni caracteres especiales)\n",
        "cols_a_eliminar = [\n",
        "    'CATEGORIA1', 'CATEGORIA2', 'CATEGORIA3', 'CATEGORIA4',\n",
        "    'GRABACIÓN', 'ARCHIVO_ADJUNTO', 'ARCHIVO_ADJUNTO2',\n",
        "    'ARCHIVO_ADJUNTO3', 'ARCHIVO_ADJUNTO4', 'ARCHIVO_ADJUNTO5',\n",
        "    'MOTIVO', 'ALCANCE', 'DISPOSITIVO', 'IDEVENTCLIENTE',\n",
        "    'EQUIPO', 'OBSERVACIONES', 'MEDIDOR', 'IDESPECIALISTA',\n",
        "    'RESPUESTA', 'CIP',\n",
        "    'IDENTIFICACIÓN DEL INTERLOCUTOR - LOPD.COND.TITULAR',\n",
        "    'IDENTIFICACION DEL INTERLOCUTOR - LOPD.COND.AVALISTA'\n",
        "]\n",
        "\n",
        "# 🧠 Función para normalizar texto (quita tildes, mayúsculas, espacios)\n",
        "def normalizar(txt):\n",
        "    txt = str(txt).strip().upper()\n",
        "    txt = ''.join(ch for ch in unicodedata.normalize('NFD', txt)\n",
        "                  if unicodedata.category(ch) != 'Mn')\n",
        "    return txt\n",
        "\n",
        "# Normalizar nombres de columnas actuales\n",
        "cols_norm = {normalizar(c): c for c in df.columns}\n",
        "\n",
        "# Determinar qué columnas conservar (todas menos las eliminadas)\n",
        "cols_a_eliminar_norm = [normalizar(c) for c in cols_a_eliminar]\n",
        "cols_a_conservar = [\n",
        "    orig for norm, orig in cols_norm.items()\n",
        "    if norm not in cols_a_eliminar_norm\n",
        "]\n",
        "\n",
        "# Crear nuevo DataFrame limpio\n",
        "df_limpio = df[cols_a_conservar].copy()\n",
        "\n",
        "print(f\"✅ Columnas originales: {len(df.columns)}\")\n",
        "print(f\"🧹 Columnas eliminadas: {len(df.columns) - len(df_limpio.columns)}\")\n",
        "print(f\"📊 Columnas finales: {len(df_limpio.columns)}\")\n"
      ],
      "metadata": {
        "colab": {
          "base_uri": "https://localhost:8080/"
        },
        "id": "XvHoCQb3z7Tv",
        "outputId": "ffa4e9d4-6b83-4e72-faf0-87a7ec59aaa4"
      },
      "execution_count": 7,
      "outputs": [
        {
          "output_type": "stream",
          "name": "stdout",
          "text": [
            "✅ Columnas originales: 162\n",
            "🧹 Columnas eliminadas: 22\n",
            "📊 Columnas finales: 140\n"
          ]
        }
      ]
    },
    {
      "cell_type": "code",
      "source": [
        "fecha_referencia = datetime.today().strftime('%Y%m%d')\n",
        "nombre_base = f\"llamadas_clean_{fecha_referencia}\"\n",
        "nombre_salida = f\"{nombre_base}.csv\"\n",
        "ruta_salida = os.path.join(ruta_clean, nombre_salida)\n",
        "### Pondremos que evitar sobrescribir si ya existe\n",
        "contador = 1\n",
        "while os.path.exists(ruta_salida):\n",
        "    ruta_salida = os.path.join(ruta_clean, f\"{nombre_base}_{contador}.csv\")\n",
        "    contador += 1\n",
        "\n",
        "df_limpio.to_csv(ruta_salida, index=False, encoding='utf-8-sig')\n",
        "print(f\"\\n✅ Archivo limpio guardado en: {ruta_salida}\")"
      ],
      "metadata": {
        "colab": {
          "base_uri": "https://localhost:8080/"
        },
        "id": "cfv_a4pw6sbR",
        "outputId": "579aa6d0-7219-4c75-9f2f-18e9c0c202b9"
      },
      "execution_count": 8,
      "outputs": [
        {
          "output_type": "stream",
          "name": "stdout",
          "text": [
            "\n",
            "✅ Archivo limpio guardado en: /content/drive/MyDrive/COPS/DATA/2.CLEANED/llamadas_clean_20251024.csv\n"
          ]
        }
      ]
    }
  ]
}
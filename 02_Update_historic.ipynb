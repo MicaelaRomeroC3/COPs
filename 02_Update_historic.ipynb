{
  "nbformat": 4,
  "nbformat_minor": 0,
  "metadata": {
    "colab": {
      "provenance": [],
      "authorship_tag": "ABX9TyN6gNxhVYIjZBRqfFPyZCTS",
      "include_colab_link": true
    },
    "kernelspec": {
      "name": "python3",
      "display_name": "Python 3"
    },
    "language_info": {
      "name": "python"
    }
  },
  "cells": [
    {
      "cell_type": "markdown",
      "metadata": {
        "id": "view-in-github",
        "colab_type": "text"
      },
      "source": [
        "<a href=\"https://colab.research.google.com/github/MicaelaRomeroC3/COPs/blob/main/02_Update_historic.ipynb\" target=\"_parent\"><img src=\"https://colab.research.google.com/assets/colab-badge.svg\" alt=\"Open In Colab\"/></a>"
      ]
    },
    {
      "cell_type": "code",
      "source": [
        "import os\n",
        "import pandas as pd\n",
        "from datetime import datetime"
      ],
      "metadata": {
        "id": "oxPtXm5XMfO5"
      },
      "execution_count": 1,
      "outputs": []
    },
    {
      "cell_type": "code",
      "source": [
        "from google.colab import drive\n",
        "drive.mount('/content/drive', force_remount=True)"
      ],
      "metadata": {
        "colab": {
          "base_uri": "https://localhost:8080/"
        },
        "id": "WDnXVDTsMlVm",
        "outputId": "3cbd77fd-de80-4f8a-9bb1-63d1f1116bc6"
      },
      "execution_count": 2,
      "outputs": [
        {
          "output_type": "stream",
          "name": "stdout",
          "text": [
            "Mounted at /content/drive\n"
          ]
        }
      ]
    },
    {
      "cell_type": "code",
      "source": [
        "# ---------------------\n",
        "# Configuración de rutas\n",
        "# ---------------------\n",
        "ruta_clean = '/content/drive/MyDrive/COPS/DATA/2.CLEANED'\n",
        "ruta_historical = '/content/drive/MyDrive/COPS/DATA/3.HISTORICAL/llamadas.parquet'\n",
        "\n",
        "# ---------------------\n",
        "# 1. Detectar el archivo limpio más reciente\n",
        "# ---------------------\n",
        "archivos_clean = [f for f in os.listdir(ruta_clean) if f.endswith('.csv')]\n",
        "if not archivos_clean:\n",
        "    print(\"⚠️ No hay archivos limpios en la carpeta CLEANED.\")\n",
        "    exit()\n",
        "\n",
        "archivo_mas_reciente = max(archivos_clean, key=lambda f: os.path.getmtime(os.path.join(ruta_clean, f)))\n",
        "ruta_limpio = os.path.join(ruta_clean, archivo_mas_reciente)\n",
        "\n",
        "print(f\"\\n📥 Cargando archivo limpio: {archivo_mas_reciente}\")\n",
        "df_nuevo = pd.read_csv(ruta_limpio)\n",
        "\n",
        "# 2. Cargar histórico si existe\n",
        "# ---------------------\n",
        "if os.path.exists(ruta_historical):\n",
        "    df_hist = pd.read_parquet(ruta_historical)\n",
        "    print(\"📚 Histórico cargado con\", len(df_hist), \"registros.\")\n",
        "else:\n",
        "    df_hist = pd.DataFrame()\n",
        "    print(\"🆕 No se encontró histórico, se creará uno nuevo.\")\n",
        "\n",
        "# 3. Unir y eliminar duplicados\n",
        "# ---------------------\n",
        "\n",
        "df_combinado = pd.concat([df_hist, df_nuevo], ignore_index=True)\n",
        "\n",
        "# 👇 Aquí defines la clave única. Ajusta según tus datos reales.\n",
        "clave = ['ID']\n",
        "df_combinado = df_combinado.drop_duplicates(subset=clave)\n",
        "\n",
        "print(f\"🔁 Total después de eliminar duplicados: {len(df_combinado)} registros.\")\n",
        "\n",
        "#Ante descuadre de nota mirar el siguiente código:\n",
        "for col in df_combinado.columns:\n",
        "    if df_combinado[col].dtype == object:\n",
        "        valores_unicos = df_combinado[col].dropna().unique()\n",
        "        if set(valores_unicos).issubset({'True', 'False', 'No Procede'}):\n",
        "            df_combinado[col] = df_combinado[col].map({'True': True, 'False': False, 'No Procede': False})\n",
        "        else:\n",
        "            # 👇 Si hay mezcla rara, intentamos forzar donde se pueda\n",
        "            if 'True' in valores_unicos or 'False' in valores_unicos or 'No Procede' in valores_unicos:\n",
        "                df_combinado[col] = df_combinado[col].apply(lambda x: True if x == 'True' else (False if x == 'False' or x == 'No Procede' else pd.NA))\n",
        "                df_combinado[col] = df_combinado[col].astype('boolean')\n",
        "\n",
        "# ---------------------\n",
        "# 4. Guardar histórico actualizado\n",
        "# ---------------------\n",
        "os.makedirs(os.path.dirname(ruta_historical), exist_ok=True)\n",
        "df_combinado.to_parquet(ruta_historical, index=False)\n",
        "\n",
        "print(f\"\\n✅ Histórico actualizado guardado en: {ruta_historical}\")"
      ],
      "metadata": {
        "colab": {
          "base_uri": "https://localhost:8080/"
        },
        "id": "7JBIsu-mMvNv",
        "outputId": "c635c13e-1975-454d-c3a9-67256b608cf7"
      },
      "execution_count": 3,
      "outputs": [
        {
          "output_type": "stream",
          "name": "stdout",
          "text": [
            "\n",
            "📥 Cargando archivo limpio: llamadas_clean_20251024.csv\n"
          ]
        },
        {
          "output_type": "stream",
          "name": "stderr",
          "text": [
            "/tmp/ipython-input-479304840.py:19: DtypeWarning: Columns (103,104,105,106,111,112) have mixed types. Specify dtype option on import or set low_memory=False.\n",
            "  df_nuevo = pd.read_csv(ruta_limpio)\n"
          ]
        },
        {
          "output_type": "stream",
          "name": "stdout",
          "text": [
            "📚 Histórico cargado con 0 registros.\n",
            "🔁 Total después de eliminar duplicados: 10000 registros.\n",
            "\n",
            "✅ Histórico actualizado guardado en: /content/drive/MyDrive/COPS/DATA/3.HISTORICAL/llamadas.parquet\n"
          ]
        }
      ]
    },
    {
      "cell_type": "markdown",
      "source": [
        "**-------------------------------------------------------**"
      ],
      "metadata": {
        "id": "0fu_YciwHg7b"
      }
    },
    {
      "cell_type": "markdown",
      "source": [
        "**---------------------------------------------------------**"
      ],
      "metadata": {
        "id": "9wVit1diHdbX"
      }
    },
    {
      "cell_type": "markdown",
      "source": [
        "# **Para VACIAR histórico**"
      ],
      "metadata": {
        "id": "AG9UoTwfHK0G"
      }
    },
    {
      "cell_type": "code",
      "source": [
        "import pandas as pd\n",
        "\n",
        "ruta = '/content/drive/MyDrive/COPS/DATA/3.HISTORICAL/llamadas.parquet'\n",
        "\n",
        "# Cargar el parquet para conservar las columnas\n",
        "df = pd.read_parquet(ruta)\n",
        "\n",
        "# Vaciar el contenido (cero filas)\n",
        "df_vacio = df.iloc[0:0]\n",
        "\n",
        "# Sobrescribir el archivo con la estructura vacía\n",
        "df_vacio.to_parquet(ruta, index=False)\n",
        "\n",
        "print(\"✅ Histórico vaciado correctamente. El archivo está en blanco, con 0 registros.\")\n"
      ],
      "metadata": {
        "colab": {
          "base_uri": "https://localhost:8080/"
        },
        "id": "EPDfZkM6HKa1",
        "outputId": "deeb5362-dd79-462d-eec3-780ae27c67a7"
      },
      "execution_count": 3,
      "outputs": [
        {
          "output_type": "stream",
          "name": "stdout",
          "text": [
            "✅ Histórico vaciado correctamente. El archivo está en blanco, con 0 registros.\n"
          ]
        }
      ]
    }
  ]
}
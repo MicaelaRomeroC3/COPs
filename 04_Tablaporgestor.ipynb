{
  "nbformat": 4,
  "nbformat_minor": 0,
  "metadata": {
    "colab": {
      "provenance": [],
      "authorship_tag": "ABX9TyNBPg2bUtWy9ge/ukda/81b",
      "include_colab_link": true
    },
    "kernelspec": {
      "name": "python3",
      "display_name": "Python 3"
    },
    "language_info": {
      "name": "python"
    }
  },
  "cells": [
    {
      "cell_type": "markdown",
      "metadata": {
        "id": "view-in-github",
        "colab_type": "text"
      },
      "source": [
        "<a href=\"https://colab.research.google.com/github/MicaelaRomeroC3/COPs/blob/main/04_Tablaporgestor.ipynb\" target=\"_parent\"><img src=\"https://colab.research.google.com/assets/colab-badge.svg\" alt=\"Open In Colab\"/></a>"
      ]
    },
    {
      "cell_type": "code",
      "execution_count": null,
      "metadata": {
        "id": "OrIwGGDwSbYA"
      },
      "outputs": [],
      "source": [
        "import pandas as pd\n",
        "import os\n",
        "import numpy as np"
      ]
    },
    {
      "cell_type": "code",
      "source": [
        "from google.colab import drive\n",
        "drive.mount('/content/drive', force_remount=True)"
      ],
      "metadata": {
        "colab": {
          "base_uri": "https://localhost:8080/"
        },
        "id": "1_0HaHziSnfy",
        "outputId": "1e0b7e3c-7bc9-4ac8-b920-39f7743d3997"
      },
      "execution_count": null,
      "outputs": [
        {
          "output_type": "stream",
          "name": "stdout",
          "text": [
            "Mounted at /content/drive\n"
          ]
        }
      ]
    },
    {
      "cell_type": "code",
      "source": [
        "ruta_historical = '/content/drive/MyDrive/COPS/DATA/3.HISTORICAL/llamadas.parquet'\n",
        "ruta_salida = '/content/drive/MyDrive/COPS/OUTPUT/TABLA_GESTOR.xlsx'\n",
        "os.makedirs(os.path.dirname(ruta_salida), exist_ok=True)\n",
        "if os.path.exists(ruta_historical):\n",
        "    df = pd.read_parquet(ruta_historical)\n",
        "    print(f\"📊 Histórico cargado con {len(df)} registros.\")\n",
        "else:\n",
        "    print(\"⚠️ No se encontró el archivo histórico.\")\n",
        "    exit()"
      ],
      "metadata": {
        "colab": {
          "base_uri": "https://localhost:8080/"
        },
        "id": "B9HSSnHNSo82",
        "outputId": "c1cfce62-9c88-4bd1-a651-880392943ed4"
      },
      "execution_count": null,
      "outputs": [
        {
          "output_type": "stream",
          "name": "stdout",
          "text": [
            "📊 Histórico cargado con 10000 registros.\n"
          ]
        }
      ]
    },
    {
      "cell_type": "code",
      "source": [
        "# === Variables de cada tipo ===\n",
        "columnas_eval_1 = ['P1', 'P2', 'P3', 'P4', 'P5', 'P6', 'S1', 'S2', 'S3', 'S4', 'S5M', 'C1M', 'C2M', 'T1M', 'T2M', 'T3']\n",
        "columnas_eval_2 = [\n",
        "    'P11', 'P12', 'P13', 'P14', 'P15', 'P21', 'P22', 'P23',\n",
        "    'P31', 'P32', 'P33', 'S11', 'S12', 'S13',\n",
        "    'S31', 'S32', 'S33', 'S34', 'S41', 'S42', 'S43', 'S44', 'S45', 'S46',\n",
        "    'S51', 'S52', 'C11', 'C12', 'C13', 'C21', 'C22',\n",
        "    'T11', 'T12', 'T13', 'T14', 'T21', 'T22',\n",
        "    'T31', 'T32', 'T33', 'T34', 'T35', 'T36', 'T37'\n",
        "]\n",
        "\n",
        "# === Ponderaciones ===\n",
        "ponderacion_dict = {\n",
        "    'P1': 0.02, 'P2': 0.10, 'P3': 0.03, 'P4': 0.03, 'P5': 0.05, 'P6': 0.02,\n",
        "    'S1': 0.03, 'S2': 0.02, 'S3': 0.10, 'S4': 0.10, 'S5M': 0.05,\n",
        "    'C1M': 0.10, 'C2M': 0.10, 'T1M': 0.05, 'T2M': 0.10, 'T3': 0.10\n",
        "}\n",
        "\n",
        "# === Tabla transpuesta 1 ===\n",
        "errores = df.groupby(['EMPRESA', 'AGENTE', 'FECHA_EVALUACIÓN', 'FECHA_INFORME'])[columnas_eval_1].apply(\n",
        "    lambda x: (x == False).sum()\n",
        ").reset_index()\n",
        "\n",
        "llamadas = df.groupby(['EMPRESA', 'AGENTE', 'FECHA_EVALUACIÓN', 'FECHA_INFORME']).size().reset_index(name='NUM_LLAMADAS')\n",
        "\n",
        "resultado_1 = pd.merge(errores, llamadas, on=['EMPRESA', 'AGENTE', 'FECHA_EVALUACIÓN', 'FECHA_INFORME'])\n",
        "\n",
        "resultado_transpuesta1 = resultado_1.melt(\n",
        "    id_vars=['EMPRESA', 'AGENTE', 'FECHA_EVALUACIÓN', 'FECHA_INFORME', 'NUM_LLAMADAS'],\n",
        "    value_vars=columnas_eval_1,\n",
        "    var_name='VARIABLE',\n",
        "    value_name='N_FALSOS'\n",
        ")\n",
        "\n",
        "resultado_transpuesta1['%_CUMPLIMIENTO'] = (\n",
        "    (1 - resultado_transpuesta1['N_FALSOS'] / resultado_transpuesta1['NUM_LLAMADAS']) * 100\n",
        ").round(2)\n",
        "\n",
        "resultado_transpuesta1['%_CUMPLIMIENTO_TEXTO'] = resultado_transpuesta1['%_CUMPLIMIENTO'].astype(str) + '%'\n",
        "\n",
        "# === Tabla transpuesta 2 ===\n",
        "agrupado = df.groupby(['EMPRESA', 'AGENTE', 'FECHA_EVALUACIÓN', 'FECHA_INFORME'])\n",
        "n_verdaderos = agrupado[columnas_eval_2].apply(lambda x: (x == True).sum()).reset_index()\n",
        "\n",
        "resultado_transpuesta2 = n_verdaderos.melt(\n",
        "    id_vars=['EMPRESA', 'AGENTE', 'FECHA_EVALUACIÓN', 'FECHA_INFORME'],\n",
        "    value_vars=columnas_eval_2,\n",
        "    var_name='VARIABLE',\n",
        "    value_name='N_TRUE'\n",
        ")\n",
        "\n",
        "# === Relación padre-subvariable ===\n",
        "relacion_vars = {\n",
        "    'P1': ['P11', 'P12', 'P13', 'P14', 'P15'],\n",
        "    'P2': ['P21', 'P22', 'P23'],\n",
        "    'P3': ['P31', 'P32', 'P33'],\n",
        "    'S1': ['S11', 'S12', 'S13'],\n",
        "    'S3': ['S31', 'S32', 'S33', 'S34'],\n",
        "    'S4': ['S41', 'S42', 'S43', 'S44', 'S45', 'S46'],\n",
        "    'S5M': ['S51', 'S52'],\n",
        "    'C1M': ['C11', 'C12', 'C13'],\n",
        "    'C2M': ['C21', 'C22'],\n",
        "    'T1M': ['T11', 'T12', 'T13', 'T14'],\n",
        "    'T2M': ['T21', 'T22'],\n",
        "    'T3': ['T31', 'T32', 'T33', 'T34', 'T35', 'T36', 'T37']\n",
        "}\n",
        "mapa_inverso = {subvar: padre for padre, subvars in relacion_vars.items() for subvar in subvars}\n",
        "resultado_transpuesta2['VARIABLE_PADRE'] = resultado_transpuesta2['VARIABLE'].map(mapa_inverso)\n",
        "\n",
        "agrupado_verdaderos = resultado_transpuesta2.groupby(\n",
        "    ['EMPRESA', 'AGENTE', 'FECHA_EVALUACIÓN', 'FECHA_INFORME', 'VARIABLE_PADRE']\n",
        ")['N_TRUE'].sum().reset_index().rename(columns={'VARIABLE_PADRE': 'VARIABLE'})\n",
        "\n",
        "# === Unir tablas ===\n",
        "tabla_unificada = pd.merge(\n",
        "    resultado_transpuesta1,\n",
        "    agrupado_verdaderos,\n",
        "    on=['EMPRESA', 'AGENTE', 'FECHA_EVALUACIÓN', 'FECHA_INFORME', 'VARIABLE'],\n",
        "    how='left'\n",
        ")\n",
        "\n",
        "tabla_unificada['N_TRUE'] = tabla_unificada['N_TRUE'].fillna(0).astype(int)\n",
        "\n",
        "# === Calcular cumplimiento ponderado por variable ===\n",
        "resultado_transpuesta1['PONDERACION'] = resultado_transpuesta1['VARIABLE'].map(ponderacion_dict)\n",
        "resultado_transpuesta1['%_CUMPLIMIENTO_PONDERADO'] = (\n",
        "    resultado_transpuesta1['%_CUMPLIMIENTO'] * resultado_transpuesta1['PONDERACION']\n",
        ").round(4)\n",
        "\n",
        "# === Calcular cumplimiento total (sumaproducto) ===\n",
        "cumplimiento_total = resultado_transpuesta1.copy()\n",
        "cumplimiento_total = cumplimiento_total.groupby(['EMPRESA', 'AGENTE', 'FECHA_EVALUACIÓN', 'FECHA_INFORME']).apply(\n",
        "    lambda x: (x['%_CUMPLIMIENTO'] * x['PONDERACION']).sum()\n",
        ").reset_index(name='%_CUMPLIMIENTO_TOTAL')\n",
        "\n",
        "# === Crear hoja dashboard ===\n",
        "dashboard = cumplimiento_total.copy()\n",
        "dashboard['%_CUMPLIMIENTO_TOTAL'] = dashboard['%_CUMPLIMIENTO_TOTAL'].round(2)\n",
        "dashboard['%_CUMPLIMIENTO_TOTAL_TEXTO'] = dashboard['%_CUMPLIMIENTO_TOTAL'].astype(str) + '%'"
      ],
      "metadata": {
        "colab": {
          "base_uri": "https://localhost:8080/"
        },
        "id": "IBkrh_HBS4V4",
        "outputId": "cc5b2f26-cbb9-4fef-e713-621d29ead402"
      },
      "execution_count": null,
      "outputs": [
        {
          "output_type": "stream",
          "name": "stderr",
          "text": [
            "Exception ignored in: <function ZipFile.__del__ at 0x7e9dd5f25f80>\n",
            "Traceback (most recent call last):\n",
            "  File \"/usr/lib/python3.12/zipfile/__init__.py\", line 1966, in __del__\n",
            "    self.close()\n",
            "  File \"/usr/lib/python3.12/zipfile/__init__.py\", line 1983, in close\n",
            "    self.fp.seek(self.start_dir)\n",
            "ValueError: seek of closed file\n",
            "/tmp/ipython-input-3058866192.py:92: DeprecationWarning: DataFrameGroupBy.apply operated on the grouping columns. This behavior is deprecated, and in a future version of pandas the grouping columns will be excluded from the operation. Either pass `include_groups=False` to exclude the groupings or explicitly select the grouping columns after groupby to silence this warning.\n",
            "  cumplimiento_total = cumplimiento_total.groupby(['EMPRESA', 'AGENTE', 'FECHA_EVALUACIÓN', 'FECHA_INFORME']).apply(\n"
          ]
        }
      ]
    },
    {
      "cell_type": "code",
      "source": [
        "# === Guardar Excel con las 4 pestañas ===\n",
        "with pd.ExcelWriter(ruta_salida, engine='openpyxl', mode='w') as writer:\n",
        "    resultado_transpuesta1.to_excel(writer, sheet_name='AUXILIAR1', index=False)\n",
        "    resultado_transpuesta2.to_excel(writer, sheet_name='AUXILIAR2', index=False)\n",
        "    tabla_unificada.to_excel(writer, sheet_name='TABLA_UNIFICADAGEST', index=False)\n",
        "    dashboard.to_excel(writer, sheet_name='DASHBOARD', index=False)\n",
        "\n",
        "print(f\"✅ Excel generado correctamente con las 4 pestañas en: {ruta_salida}\")"
      ],
      "metadata": {
        "colab": {
          "base_uri": "https://localhost:8080/"
        },
        "id": "vkyAbdtoZRPq",
        "outputId": "374dc64a-9d4f-44f2-af4b-e548d5854b88"
      },
      "execution_count": null,
      "outputs": [
        {
          "output_type": "stream",
          "name": "stdout",
          "text": [
            "✅ Excel generado correctamente con las 4 pestañas en: /content/drive/MyDrive/COPS/OUTPUT/TABLA_GESTOR.xlsx\n"
          ]
        }
      ]
    }
  ]
}
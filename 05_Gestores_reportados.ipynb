{
  "nbformat": 4,
  "nbformat_minor": 0,
  "metadata": {
    "colab": {
      "provenance": [],
      "authorship_tag": "ABX9TyPWonZ4W0Q5y5Z8lUIV+jZf",
      "include_colab_link": true
    },
    "kernelspec": {
      "name": "python3",
      "display_name": "Python 3"
    },
    "language_info": {
      "name": "python"
    }
  },
  "cells": [
    {
      "cell_type": "markdown",
      "metadata": {
        "id": "view-in-github",
        "colab_type": "text"
      },
      "source": [
        "<a href=\"https://colab.research.google.com/github/MicaelaRomeroC3/COPs/blob/main/05_Gestores_reportados.ipynb\" target=\"_parent\"><img src=\"https://colab.research.google.com/assets/colab-badge.svg\" alt=\"Open In Colab\"/></a>"
      ]
    },
    {
      "cell_type": "code",
      "execution_count": null,
      "metadata": {
        "colab": {
          "base_uri": "https://localhost:8080/"
        },
        "id": "0Z28J_pCZfhn",
        "outputId": "55a6f17a-d547-4a14-a474-72344d46d438"
      },
      "outputs": [
        {
          "output_type": "stream",
          "name": "stdout",
          "text": [
            "Mounted at /content/drive\n"
          ]
        }
      ],
      "source": [
        "from google.colab import drive\n",
        "drive.mount('/content/drive', force_remount=True)\n"
      ]
    },
    {
      "cell_type": "code",
      "source": [
        "import pandas as pd\n",
        "\n",
        "# Ruta del archivo Excel que ya tiene la TABLA_UNIFICADA\n",
        "\n",
        "ruta_tabla_unificada = '/content/drive/MyDrive/COPS/OUTPUT/TABLA_GESTOR.xlsx'\n",
        "ruta_llamadas_parquet ='/content/drive/MyDrive/COPS/DATA/3.HISTORICAL/llamadas.parquet'\n",
        "ruta_salida = '/content/drive/MyDrive/COPS/OUTPUT/INFORME_GESTORESREPOR.xlsx'\n",
        "\n",
        "tabla_unificada = pd.read_excel(ruta_tabla_unificada, sheet_name='TABLA_UNIFICADAGEST')\n",
        "\n",
        "llamadas = pd.read_parquet(ruta_llamadas_parquet)\n",
        "\n",
        "# Inspección rápida de valores únicos antes de convertir\n",
        "print(\"Valores únicos antes de conversión:\")\n",
        "print(tabla_unificada['%_CUMPLIMIENTO'].unique())\n",
        "\n",
        "# Función robusta para limpiar y convertir\n",
        "def limpiar_y_convertir(valor):\n",
        "    try:\n",
        "        if pd.isna(valor):\n",
        "            return None\n",
        "        valor = str(valor).replace('%', '').replace(',', '.').strip()\n",
        "        return float(valor)\n",
        "    except:\n",
        "        print(f\"❌ Error al convertir: {valor}\")\n",
        "        return None\n",
        "tabla_unificada['%_CUMPLIMIENTO'] = tabla_unificada['%_CUMPLIMIENTO'].apply(limpiar_y_convertir)\n"
      ],
      "metadata": {
        "colab": {
          "base_uri": "https://localhost:8080/"
        },
        "id": "FOH9DDBSaI7w",
        "outputId": "988202eb-3668-436d-f94b-d718e05270ae"
      },
      "execution_count": null,
      "outputs": [
        {
          "output_type": "stream",
          "name": "stdout",
          "text": [
            "Valores únicos antes de conversión:\n",
            "[100.     0.    75.    66.67  50.    83.33  71.43  80.    87.5   85.71\n",
            "  33.33  92.86  90.91  88.89  90.    77.78  60.    94.12  72.73  62.5\n",
            "  86.67  57.14  55.56  93.33  82.35  40.    93.75  91.67  88.24  81.82\n",
            "  20.    25.    70.    14.29]\n"
          ]
        }
      ]
    },
    {
      "cell_type": "code",
      "source": [
        "# 1. Definir la relación VARIABLE PADRE → SUBVARIABLES\n",
        "# --------------------------\n",
        "mapeo_subvars = {\n",
        "    'P1': ['P11', 'P12', 'P13', 'P14', 'P15'],\n",
        "    'P2': ['P21', 'P22', 'P23'],\n",
        "    'P3': ['P31', 'P32', 'P33'],\n",
        "    'S1': ['S11', 'S12', 'S13'],\n",
        "    'S3': ['S31', 'S32', 'S33', 'S34'],\n",
        "    'S4': ['S41', 'S42', 'S43', 'S44', 'S45', 'S46'],\n",
        "    'S5M': ['S51', 'S52'],\n",
        "    'C1M': ['C11', 'C12', 'C13'],\n",
        "    'C2M': ['C21', 'C22'],\n",
        "    'T1M': ['T11', 'T12', 'T13', 'T14'],\n",
        "    'T2M': ['T21', 'T22'],\n",
        "    'T3': ['T31', 'T32', 'T33', 'T34', 'T35', 'T36', 'T37']\n",
        "}\n",
        "\n",
        "\n",
        "# --------------------------\n",
        "# 2. Crear columna con subvariables True para cada fila (llamada)\n",
        "# --------------------------\n",
        "def get_true_subvars(row, variable_padre):\n",
        "    subvars = mapeo_subvars.get(variable_padre, [])\n",
        "    true_vars = [var for var in subvars if var in row and row[var] == True]\n",
        "    return true_vars\n",
        "\n",
        "\n",
        "# --------------------------\n",
        "# 3. Agregamos columna auxiliar con la variable padre en cada llamada\n",
        "# --------------------------\n",
        "detalles = []\n",
        "\n",
        "for variable_padre, subvars in mapeo_subvars.items():\n",
        "    # Asegurarse que las subvars existen en el DataFrame\n",
        "    columnas_presentes = [col for col in subvars if col in llamadas.columns]\n",
        "    if not columnas_presentes:\n",
        "        continue\n",
        "\n",
        "    temp = llamadas[['EMPRESA', 'AGENTE', 'FECHA_EVALUACIÓN', 'FECHA_INFORME'] + columnas_presentes].copy()\n",
        "    temp['VARIABLE'] = variable_padre\n",
        "    temp['SUBVARIABLES_TRUE'] = temp.apply(lambda row: get_true_subvars(row, variable_padre), axis=1)\n",
        "\n",
        "    detalles.append(temp[['EMPRESA', 'AGENTE', 'FECHA_EVALUACIÓN', 'FECHA_INFORME', 'VARIABLE', 'SUBVARIABLES_TRUE']])\n",
        "\n",
        "# Unimos todos los detalles\n",
        "df_subvars_true = pd.concat(detalles)\n",
        "\n",
        "# Agrupar para cada bloque y juntar las subvariables que han salido True\n",
        "df_subvars_true = df_subvars_true.groupby(['EMPRESA', 'AGENTE', 'FECHA_EVALUACIÓN', 'FECHA_INFORME', 'VARIABLE'])[\n",
        "    'SUBVARIABLES_TRUE'] \\\n",
        "    .apply(lambda x: ', '.join(sorted(set(sum(x, []))))) \\\n",
        "    .reset_index()\n",
        "\n",
        "# --------------------------\n",
        "# 4. Unirlo con la tabla unificada final\n",
        "# --------------------------\n",
        "tabla_final = tabla_unificada.merge(df_subvars_true,\n",
        "                                    on=['EMPRESA', 'AGENTE', 'FECHA_EVALUACIÓN', 'FECHA_INFORME', 'VARIABLE'],\n",
        "                                    how='left')\n",
        "\n",
        "\n",
        "# --------------------------\n",
        "# 6. Añadir descripción de la variable\n",
        "# --------------------------\n",
        "mapeo_descripciones = {\n",
        "    'P1': 'PRESENTACIÓN, SALUDO CORPORATIVO Y GRABACIÓN DE LA LLAMADA',\n",
        "    'P2': 'IDENTIFICACIÓN DEL INTERLOCUTOR - LOPD',\n",
        "    'P3': 'ESCUCHA COMPRENSIVA Y EMPÁTICA',\n",
        "    'P4': 'TRATO CORDIAL AL CLIENTE',\n",
        "    'P5': 'RESPONSABILIDAD CORPORATIVA',\n",
        "    'P6': 'DESPEDIDA CORPORATIVA',\n",
        "    'S1': 'INFORMACIÓN MOTIVO DE LA LLAMADA',\n",
        "    'S2': 'SITUACIÓN ACTUAL DEL DEUDOR',\n",
        "    'S3': 'SONDEO: IDENTIFICAR CAPACIDAD DE PAGO Y DETECCIÓN DE NECESIDADES',\n",
        "    'S4': 'DIRECCIÓN',\n",
        "    'S5M': 'PREPARACIÓN CIERRE : RESUMEN DE ACUERDOS',\n",
        "    'C1M': 'OFRECER TPV COMO ALTERNATIVA PRIORITARIA DE PAGO',\n",
        "    'C2M': 'PRIORIZA LOS CANALES DIGITALES U OTROS MEDIOS PARA REALIZAR LOS INGRESOS LO ANTES POSIBLE',\n",
        "    'T1M': 'USO EFECTIVO DEL SCRIPT',\n",
        "    'T2M': 'CAPACIDAD DE EXPRESIÓN',\n",
        "    'T3': 'BUSCAR EL COMPROMISO DE PAGO ENUNCIANDO LOS BENEFICIOS Y LAS CONSECUENCIAS DE LA REGULARIZACIÓN'\n",
        "}\n",
        "\n",
        "# Crear nueva columna con la descripción\n",
        "tabla_final['DESC_VARIABLE'] = tabla_final['VARIABLE'].map(mapeo_descripciones)\n",
        "\n",
        "# Reordenar columnas para que DESC_VARIABLE esté al lado de VARIABLE\n",
        "columnas = list(tabla_final.columns)\n",
        "if 'VARIABLE' in columnas and 'DESC_VARIABLE' in columnas:\n",
        "    columnas.remove('DESC_VARIABLE')  # quitamos primero\n",
        "    idx_variable = columnas.index('VARIABLE')  # localizamos dónde está VARIABLE\n",
        "    columnas.insert(idx_variable + 1, 'DESC_VARIABLE')  # insertamos justo después\n",
        "\n",
        "    tabla_final = tabla_final[columnas]  # aplicamos el reordenamiento\n",
        "\n",
        "# --------------------------\n",
        "\n",
        "# Diccionario de descripciones de subvariables\n",
        "\n",
        "desc_subvars = {\n",
        "    'P11': 'No se presenta \"en nombre de la entidad\" de la deuda (Monoproducto)',\n",
        "    'P12': 'No dice nombre y apellido gestor',\n",
        "    'P13': 'No dice nombre agencia',\n",
        "    'P14': 'No informa de la grabación de la llamada',\n",
        "    'P15': 'No se presenta \"en nombre de CaixaBank\" y especifica la entidad de cada deuda (Multiproducto)',\n",
        "\n",
        "    'P21': 'No verifica DNI',\n",
        "    'P22': 'No pregunta por el cliente deudor',\n",
        "    'P23': 'Incumplimiento compliance grabación llamadas (numeración tarjeta)',\n",
        "\n",
        "    'P31': 'No demuestra interés por la situación del cliente',\n",
        "    'P32': 'No tiene en cuenta la información trasladada por el cliente para conseguir un acuerdo',\n",
        "    'P33': 'Adopta una actitud inapropiada de cara al cliente (sarcástica, condescendiente, de reproche…)',\n",
        "\n",
        "    'S11': 'No especifica claramente el motivo de la llamada',\n",
        "    'S12': 'No especifica el importe de la deuda',\n",
        "    'S13': 'No especifica la antigüedad de la deuda',\n",
        "\n",
        "    'S31': 'No se identifica la capacidad de pago',\n",
        "    'S32': 'El gestor no hace referencia al siguiente vencimiento cuando cierran un acuerdo',\n",
        "    'S33': 'No sondea, presupone la situación del cliente',\n",
        "    'S34': 'Intenta terminar la llamada rápido, quitándosela de encima',\n",
        "\n",
        "    'S41': 'No se percibe que el gestor domine la conversación, más bien ésta dirigida por el cliente',\n",
        "    'S42': 'No consigue linealidad y concreción',\n",
        "    'S43': 'Actúa a \"la defensiva\"',\n",
        "    'S44': 'Ante un cliente complejo/insatisfecho genera confrontación',\n",
        "    'S45': 'Alarga o precipita de manera innecesaria el cierre de conversación',\n",
        "    'S46': 'No dirige la secuencia de llamada manteniendo el enfoque',\n",
        "\n",
        "    'S51': 'No concreta fecha e importe en caso de acuerdo de pago',\n",
        "    'S52': 'No concreta fecha de seguimiento en caso de no haber acuerdo de pago',\n",
        "\n",
        "    'C11': 'No ofrece tarjeta de débito CaixaBank',\n",
        "    'C12': 'No ofrece tarjeta de crédito otra entidad',\n",
        "    'C13': 'No ofrece tarjeta de familiar/amigo',\n",
        "\n",
        "    'C21': 'No ofrecen las alternativas de pago disponibles (aparte de TPV)',\n",
        "    'C22': 'Enfoque incorrecto con exceso de acuerdos parciales',\n",
        "\n",
        "    'T11': 'No hace uso efectivo del script (en todos los casos salvo protocolo negociación con oficina)',\n",
        "    'T12': 'No sigue el procedimiento \"negociación deuda con oficina\" como objeción del cliente',\n",
        "    'T13': 'No sigue con los pasos habituales para el recobro (la información facilitada por el cliente es insuficiente)',\n",
        "    'T14': 'No le indica al cliente que se toma nota de lo tramitado con la oficina (la información facilitada por el cliente es suficiente)',\n",
        "\n",
        "    'T21': 'No busca el compromiso de pago enunciando beneficios/consecuencias',\n",
        "    'T22': 'No es exigente acordando una fecha',\n",
        "\n",
        "    'T31': 'No adecúa su lenguaje y su forma de expresarse al grado de compresión del cliente',\n",
        "    'T32': 'No se expresa con claridad y profesionalidad',\n",
        "    'T33': 'No interactúa en la comunicación con el cliente',\n",
        "    'T34': 'Utiliza un tono de voz inapropiado (mecánico/agresivo/pasivo…)',\n",
        "    'T35': 'No muestra seguridad en la comunicación',\n",
        "    'T36': 'No afronta las objeciones con argumentos adecuados, correctos y completos',\n",
        "    'T37': 'No aplica una solución adaptada al perfil del cliente'\n",
        "}\n",
        "\n",
        "# Función para mapear las descripciones\n",
        "def mapear_descripciones(subvars_str):\n",
        "    if pd.isna(subvars_str) or not isinstance(subvars_str, str):\n",
        "        return ''\n",
        "    subvars = [s.strip() for s in subvars_str.split(',')]\n",
        "    descripciones = [desc_subvars.get(s, s) for s in subvars]\n",
        "    return ', '.join(descripciones)\n",
        "\n",
        "# --------------------------\n",
        "# Eliminar columnas duplicadas (por si acaso)\n",
        "tabla_final = tabla_final.loc[:, ~tabla_final.columns.duplicated()]\n",
        "\n",
        "# Añadir columna con descripciones de subvariables\n",
        "tabla_final['DESC_SUBVARIABLES'] = tabla_final['SUBVARIABLES_TRUE'].apply(mapear_descripciones)\n",
        "\n",
        "# Reordenar para colocarla justo al lado de SUBVARIABLES_TRUE\n",
        "cols = tabla_final.columns.tolist()\n",
        "if 'DESC_SUBVARIABLES' in cols:\n",
        "    cols.remove('DESC_SUBVARIABLES')\n",
        "\n",
        "if 'SUBVARIABLES_TRUE' in cols:\n",
        "    idx = cols.index('SUBVARIABLES_TRUE')\n",
        "    cols = cols[:idx+1] + ['DESC_SUBVARIABLES'] + cols[idx+1:]\n",
        "else:\n",
        "    cols.append('DESC_SUBVARIABLES')\n",
        "\n",
        "tabla_final = tabla_final[cols]\n",
        "\n",
        "tabla_final = tabla_final.sort_values(by='%_CUMPLIMIENTO', ascending=False)"
      ],
      "metadata": {
        "id": "TgnIY7UEasDQ"
      },
      "execution_count": null,
      "outputs": []
    },
    {
      "cell_type": "code",
      "source": [
        "# 5. Guardar todo en un nuevo Excel\n",
        "# --------------------------\n",
        "with pd.ExcelWriter(ruta_salida, engine='openpyxl') as writer:\n",
        "    tabla_final.to_excel(writer, sheet_name='TABLA_UNIFICADA_CON_SUBVARS', index=False)\n",
        "\n",
        "print(f\"✅ Archivo generado en: {ruta_salida}\")"
      ],
      "metadata": {
        "colab": {
          "base_uri": "https://localhost:8080/"
        },
        "id": "IMTloRwka86y",
        "outputId": "6a2c7dad-6321-4e26-bcc7-bb17b8f93bf1"
      },
      "execution_count": null,
      "outputs": [
        {
          "output_type": "stream",
          "name": "stdout",
          "text": [
            "✅ Archivo generado en: /content/drive/MyDrive/COPS/OUTPUT/INFORME_GESTORESREPOR.xlsx\n"
          ]
        }
      ]
    }
  ]
}